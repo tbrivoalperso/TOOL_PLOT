{
 "cells": [
  {
   "cell_type": "code",
   "execution_count": 3,
   "id": "a1794756",
   "metadata": {},
   "outputs": [],
   "source": [
    "import cartopy.crs as ccrs\n",
    "import xarray as xr\n",
    "import numpy as np\n",
    "import scipy.stats as st\n",
    "from scipy.stats import linregress\n",
    "from numpy.polynomial.polynomial import polyfit\n",
    "from scipy import signal\n",
    "from scipy.stats import norm\n",
    "\n",
    "import matplotlib\n",
    "\n",
    "import matplotlib.pyplot as plt\n",
    "import netCDF4 as nc\n",
    "from matplotlib import pyplot\n",
    "from matplotlib import colors as mcolors\n",
    "import matplotlib.gridspec as gridspec\n",
    "from scipy.stats import norm\n",
    "from mpl_toolkits.axes_grid1 import make_axes_locatable\n",
    "import gcm_filters\n",
    "\n",
    "from cartopy.mpl.ticker import LongitudeFormatter, LatitudeFormatter\n"
   ]
  },
  {
   "cell_type": "code",
   "execution_count": 2,
   "id": "a3ed8600",
   "metadata": {},
   "outputs": [],
   "source": [
    "def compute_spectrum(KE_spectre):\n",
    "    dx=1/(dx_min/1000)\n",
    "    print(dx_min)\n",
    "    no=0\n",
    "    ff_KE_spectre=np.zeros(KE_spectre.shape)\n",
    "    ff_KE_spectreki0=np.zeros(KE_spectre.shape)\n",
    "    # len(KE_spectre_20[:,0])\n",
    "    for j in range(len(KE_spectre[0,:])):\n",
    "        ff_KE_spectre[:,j], ff_KE_spectreki0[:,j]= signal.welch(KE_spectre[:,j], fs=dx,nperseg=int(len(KE_spectre[:,0])), window='hanning', noverlap=no,nfft=2*int(len(KE_spectre[:,0])-1),  detrend='linear', return_onesided=True, scaling='spectrum')\n",
    "\n",
    "    mean_f0_KE_spectre = np.nanmean(ff_KE_spectre,axis=1)\n",
    "    mean_fi0_KE_spectre = np.nanmean(ff_KE_spectreki0,axis=1)\n",
    "    return mean_f0_KE_spectre, mean_fi0_KE_spectre"
   ]
  },
  {
   "cell_type": "code",
   "execution_count": 6,
   "id": "b840291e",
   "metadata": {},
   "outputs": [],
   "source": [
    "Coordfile = xr.open_dataset('/data/vdi/tbrivoal/PRE_PROCESSING_IMMERSE/BATHY/DOMAINcfgs/domain_cfg_init.nc', drop_variables={\"x\", \"y\",})\n",
    "DSTART = '2017-01-01'\n",
    "DEND = '2018-01-01'\n",
    "\n",
    "\n",
    "Ufile_AGRIF_36 = xr.open_dataset('/data/vdi/tbrivoal/RUNS_DATA/EXP02_AGRIF_finaldomain_bathycorrected_qco_boost2_noslip/eNEATL36_1h_KE_filt36_daymean.nc', chunks={'time_counter': 50}).sel(time_counter=slice(DSTART, DEND))\n",
    "\n",
    "Ufile_AGRIF_20 = xr.open_dataset('/data/vdi/tbrivoal/RUNS_DATA/EXP02_AGRIF_finaldomain_bathycorrected_qco_boost2_noslip/eNEATL36_1h_KE_filt20_daymean.nc', chunks={'time_counter': 50}).sel(time_counter=slice(DSTART, DEND))\n",
    "\n",
    "Ufile_AGRIF_8 = xr.open_dataset('/data/vdi/tbrivoal/RUNS_DATA/EXP02_AGRIF_finaldomain_bathycorrected_qco_boost2_noslip/eNEATL36_1h_KE_filt8_daymean.nc', chunks={'time_counter': 50}).sel(time_counter=slice(DSTART, DEND))\n",
    "\n",
    "\n",
    "###################\n",
    "\n",
    "Ufile_TWIN_36 = xr.open_dataset('/data/vdi/tbrivoal/RUNS_DATA/eNEATL36_trunk_r4_2-RC_r15113_IFS_EXP02_2017_2018_AGRIFTWIN_TRUE/eNEATL36_1h_KE_filt36_daymean.nc', chunks={'time_counter': 50}).sel(time_counter=slice(DSTART, DEND))\n",
    "\n",
    "Ufile_TWIN_20 = xr.open_dataset('/data/vdi/tbrivoal/RUNS_DATA/eNEATL36_trunk_r4_2-RC_r15113_IFS_EXP02_2017_2018_AGRIFTWIN_TRUE/eNEATL36_1h_KE_filt20_daymean.nc', chunks={'time_counter': 50}).sel(time_counter=slice(DSTART, DEND))\n",
    "\n",
    "Ufile_TWIN_8 = xr.open_dataset('/data/vdi/tbrivoal/RUNS_DATA/eNEATL36_trunk_r4_2-RC_r15113_IFS_EXP02_2017_2018_AGRIFTWIN_TRUE/eNEATL36_1h_KE_filt8_daymean.nc', chunks={'time_counter': 50}).sel(time_counter=slice(DSTART, DEND))\n"
   ]
  },
  {
   "cell_type": "code",
   "execution_count": 7,
   "id": "8e446f31",
   "metadata": {},
   "outputs": [],
   "source": [
    "dxe = Coordfile.e1t.squeeze()\n",
    "dye = Coordfile.e2t.squeeze()\n",
    "dxn = Coordfile.e1v.squeeze()\n",
    "dyn = Coordfile.e2v.squeeze()\n",
    "dx_min = 3000 #min(dxe.min(),dye.min(),dxn.min(),dyn.min())\n",
    "lon=Coordfile.glamt.squeeze()\n",
    "lat=Coordfile.gphit.squeeze()\n",
    "bathy=Coordfile.bathy_metry.squeeze()\n"
   ]
  },
  {
   "cell_type": "code",
   "execution_count": null,
   "id": "df78ecb1",
   "metadata": {},
   "outputs": [],
   "source": []
  }
 ],
 "metadata": {
  "kernelspec": {
   "display_name": "Python 3",
   "language": "python",
   "name": "python3"
  },
  "language_info": {
   "codemirror_mode": {
    "name": "ipython",
    "version": 3
   },
   "file_extension": ".py",
   "mimetype": "text/x-python",
   "name": "python",
   "nbconvert_exporter": "python",
   "pygments_lexer": "ipython3",
   "version": "3.8.8"
  }
 },
 "nbformat": 4,
 "nbformat_minor": 5
}
