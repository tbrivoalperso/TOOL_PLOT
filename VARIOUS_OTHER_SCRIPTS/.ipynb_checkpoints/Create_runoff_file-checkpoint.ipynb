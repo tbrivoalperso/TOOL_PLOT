{
 "cells": [
  {
   "cell_type": "code",
   "execution_count": 24,
   "id": "04a0d840",
   "metadata": {},
   "outputs": [],
   "source": [
    "import numpy as np\n",
    "import xarray as xr\n",
    "import pandas as pd\n",
    "import matplotlib as mpl\n",
    "import matplotlib.pyplot as plt\n",
    "import shutil\n",
    "from shutil import copyfile\n"
   ]
  },
  {
   "cell_type": "code",
   "execution_count": 25,
   "id": "d2d0dca2",
   "metadata": {},
   "outputs": [],
   "source": [
    "# Namelist\n",
    "\n",
    "year=2017 # year of runoff file\n",
    "\n",
    "# PATHS (Careful !!! Full path needed (e.g: /DATA/ROBERT/ instead of DATA/ROBERT))\n",
    "rnf_bdy_folder='/data/rd_exchange/tbrivoal/RUNOFFS_eNEATL36/rnf_forcing/'\n",
    "CLIM_rnf_2D_file='/data/rd_exchange/tbrivoal/RUNOFFS_eNEATL36/runoff_eNEATL36.nc'\n",
    "coords_bdy_file='/data/rd_exchange/tbrivoal/RUNOFFS_eNEATL36/coordinates.bdy.nc'\n",
    "domain_cfg_file = '/data/rd_exchange/tbrivoal/RUNOFFS_eNEATL36/domain_cfg.nc'\n",
    "\n",
    "output_folder=\"/data/rd_exchange/tbrivoal/RUNOFFS_eNEATL36/\"\n",
    "\n",
    "test_script=False # For debugging"
   ]
  },
  {
   "cell_type": "code",
   "execution_count": 26,
   "id": "2fd7bcea",
   "metadata": {},
   "outputs": [],
   "source": [
    "############# Read data ###############\n",
    "\n",
    "file_rnf_bdy_U=xr.open_dataset(rnf_bdy_folder + \"runoff_U_y\" + str(year) + \".nc\") # file format : runoff_U_yYYYY.nc\n",
    "file_rnf_bdy_V=xr.open_dataset(rnf_bdy_folder + \"runoff_V_y\" + str(year) + \".nc\")\n",
    "file_rnf_2D=xr.open_dataset(CLIM_rnf_2D_file)\n",
    "file_coords_bdy=xr.open_dataset(coords_bdy_file)\n",
    "domain_cfg = xr.open_dataset(domain_cfg_file )\n",
    "\n",
    "# Read river mouth coordinates\n",
    "# ghosts cells are taken into account so we have to do - 2 (- 1 for ghost an -1 for python)\n",
    "\n",
    "nbiu_gridT = file_rnf_bdy_U.nbidta.squeeze() #- 1 # - 1 to convert to gridT\n",
    "nbju_gridT  = file_rnf_bdy_U.nbjdta.squeeze() -1 # - 2 \n",
    "nbiv_gridT  = file_rnf_bdy_V.nbidta.squeeze() - 1 # -2 \n",
    "nbjv_gridT  = file_rnf_bdy_V.nbjdta.squeeze() # - 1 # - 1 to convert to gridT\n",
    "\n",
    "# Read BDY files of U & V runoffs\n",
    "\n",
    "U_rnf_bdy = abs(file_rnf_bdy_U.runoffu.squeeze())\n",
    "V_rnf_bdy = abs(file_rnf_bdy_V.runoffv.squeeze())\n",
    "\n",
    "# Read 2D runoff data\n",
    "rnf_2D = file_rnf_2D.orca_costal\n",
    "\n",
    "# Read coordinates\n",
    "\n",
    "mask =  domain_cfg.top_level.squeeze()\n",
    "e1t =  domain_cfg.e1t.squeeze()\n",
    "e2t =  domain_cfg.e2t.squeeze()\n"
   ]
  },
  {
   "cell_type": "code",
   "execution_count": 27,
   "id": "b8634742",
   "metadata": {},
   "outputs": [],
   "source": [
    "################################## Convert montly clim to daily clim ###################################\n",
    "\n",
    "# Date variables ----------------------------------------------------------------------------------------\n",
    "dstart_year= str(year) + \"-01-01\" # 1st day of the year\n",
    "dend_year= str(year) + \"-12-31\" # last day of the year\n",
    "\n",
    "dstart_clim_monthly = str(year) + \"-01-15\" # for 12 month clim\n",
    "dend_clim_monthly = str(year) + \"-12-15\" # for 12 month clim\n",
    "dstart_minus_1_month = str(year-1) + \"-12-01\" # used for conversion from monthly to daily clim data\n",
    "#-----------------------------------\n",
    "\n",
    "# Repare time dimension in the climatology -------------------------------------------------------------\n",
    "time_counter_monthly = pd.date_range(dstart_clim_monthly, dend_clim_monthly, periods=12) # fake time dimension\n",
    "rnf_2D[\"time_counter\"] = time_counter_monthly \n",
    "\n",
    "# Workaround : append last and first month of the climatology to the data ------------------------------\n",
    "rnf_2D_minus_1 = rnf_2D[-1]\n",
    "rnf_2D_minus_1 = rnf_2D_minus_1.expand_dims(\"time_counter\") # workaround to keep a time dimension\n",
    "rnf_2D_plus_1 = rnf_2D[0]\n",
    "rnf_2D_plus_1 = rnf_2D_plus_1.expand_dims(\"time_counter\") # workaround to keep a time dimension\n",
    "rnf_2D_tmp = np.concatenate((rnf_2D_minus_1.values, rnf_2D.values, rnf_2D_plus_1.values), axis=0) \n",
    "\n",
    "# Convert to rnf_2D_tmp (np.array) to xr.dataarray -----------------------------------------------------\n",
    "time_counter_monthly_expand = pd.date_range(dstart_minus_1_month, freq=\"M\", periods=14) # fake time dimension\n",
    "\n",
    "rnf_2D_tmp_da = xr.DataArray(\n",
    "    data=rnf_2D_tmp,\n",
    "    dims=[\"time_counter\", \"y\", \"x\"],\n",
    "    coords=dict(time_counter=time_counter_monthly_expand))\n",
    "\n",
    "# Resample data and repair time dimension --------------------------------------------------------------\n",
    "\n",
    "rnf_2D_tmp_daily = rnf_2D_tmp_da.resample(time_counter=\"1D\").interpolate(\"linear\")\n",
    "rnf_2D_daily=rnf_2D_tmp_daily[16:-16,:,:] # select 365 days\n",
    "time_counter_daily = pd.date_range(dstart_year,dend_year, freq=\"D\") # time dimension\n",
    "rnf_2D_daily[\"time_counter\"] = time_counter_daily # repare time dimension\n",
    "del(rnf_2D_tmp_daily, rnf_2D_tmp, rnf_2D_minus_1, rnf_2D_plus_1)"
   ]
  },
  {
   "cell_type": "code",
   "execution_count": 28,
   "id": "9b98f07a",
   "metadata": {},
   "outputs": [
    {
     "data": {
      "text/plain": [
       "[<matplotlib.lines.Line2D at 0x2acbb4d1c580>]"
      ]
     },
     "execution_count": 28,
     "metadata": {},
     "output_type": "execute_result"
    },
    {
     "data": {
      "image/png": "[encoded data removed]",
      "text/plain": [
       "<Figure size 432x288 with 1 Axes>"
      ]
     },
     "metadata": {
      "needs_background": "light"
     },
     "output_type": "display_data"
    }
   ],
   "source": [
    "# Control plot\n",
    "plt.plot(time_counter_monthly, rnf_2D.mean(dim=\"x\").mean(dim=\"y\"),color='b')\n",
    "plt.plot(time_counter_daily, rnf_2D_daily.mean(dim=\"x\").mean(dim=\"y\"),color='r')\n",
    "# The two curves should be almost identical\n",
    "\n"
   ]
  },
  {
   "cell_type": "code",
   "execution_count": 29,
   "id": "9b1f1d64",
   "metadata": {},
   "outputs": [],
   "source": [
    "############################ Append 3D bdy runoffs to the climatology ###################################\n",
    "\n",
    "Rho = 1000.\n",
    "\n",
    "# now add runoff BDY data over the climatology data\n",
    "if test_script==True:\n",
    "    rnf_2D_daily_new = rnf_2D_daily # initialisation\n",
    "    rnf_2D_daily_new[:,:,:] = 0. # initialisation\n",
    "else:\n",
    "    rnf_2D_daily_new = rnf_2D_daily # initialisation\n",
    "    \n",
    "    \n",
    "for ind in range(len(U_rnf_bdy[0,:])):\n",
    "#     print(ind, nbju_gridT[ind].values,nbiu_gridT[ind].values)\n",
    "    e1te2t=e1t[nbju_gridT[ind],nbiu_gridT[ind]] * e2t[nbju_gridT[ind],nbiu_gridT[ind]]\n",
    "    rnf_2D_daily_new[:,nbju_gridT[ind],nbiu_gridT[ind]] = \\\n",
    "    rnf_2D_daily_new[:,nbju_gridT[ind],nbiu_gridT[ind]]   \\\n",
    "    + ((U_rnf_bdy[:,ind].values * Rho ) / e1te2t.values)\n",
    "    \n",
    "    \n",
    "for ind in range(len(V_rnf_bdy[0,:])):\n",
    "    e1te2t=e1t[nbjv_gridT[ind],nbiv_gridT[ind]] * e2t[nbjv_gridT[ind],nbiv_gridT[ind]]\n",
    "    rnf_2D_daily_new[:,nbjv_gridT[ind],nbiv_gridT[ind]] = \\\n",
    "    rnf_2D_daily_new[:,nbjv_gridT[ind],nbiv_gridT[ind]] \\\n",
    "    + ((V_rnf_bdy[:,ind].values * Rho ) / e1te2t.values)"
   ]
  },
  {
   "cell_type": "code",
   "execution_count": 30,
   "id": "1c6b1550",
   "metadata": {},
   "outputs": [],
   "source": [
    "#\n",
    "if test_script==True:\n",
    "    TEST = rnf_2D_daily_new.where(mask.values==0,0.) # mask sea data for testing\n",
    "    if np.nanmean(TEST.values) == 0:\n",
    "        print(\"TEST OK\")\n",
    "    else:\n",
    "        print(\"TEST NOK\", str(np.nanmean(TEST.values)))\n"
   ]
  },
  {
   "cell_type": "code",
   "execution_count": 31,
   "id": "1b46396d",
   "metadata": {},
   "outputs": [
    {
     "data": {
      "text/plain": [
       "(365, 1894, 1294)"
      ]
     },
     "execution_count": 31,
     "metadata": {},
     "output_type": "execute_result"
    }
   ],
   "source": [
    "rnf_2D_daily_new.shape"
   ]
  },
  {
   "cell_type": "code",
   "execution_count": 32,
   "id": "e9540a77",
   "metadata": {},
   "outputs": [
    {
     "data": {
      "text/plain": [
       "Float64Index([1.4832288163640115e+18, 1.4833152654657454e+18,\n",
       "              1.4834015771285258e+18, 1.4834880262302597e+18,\n",
       "                1.48357433789304e+18,  1.483660786994774e+18,\n",
       "               1.483747236096508e+18, 1.4838335477592883e+18,\n",
       "              1.4839199968610222e+18,  1.484006445962756e+18,\n",
       "              ...\n",
       "              1.5139007927324508e+18, 1.5139872418341847e+18,\n",
       "               1.514073553496965e+18,  1.514160002598699e+18,\n",
       "               1.514246451700433e+18, 1.5143327633632133e+18,\n",
       "              1.5144192124649472e+18,  1.514505661566681e+18,\n",
       "              1.5145919732294615e+18, 1.5146784223311954e+18],\n",
       "             dtype='float64', length=365)"
      ]
     },
     "execution_count": 32,
     "metadata": {},
     "output_type": "execute_result"
    }
   ],
   "source": [
    "\n",
    "time_counter_daily = pd.date_range(dstart_year,dend_year, freq=\"D\") # time dimension\n",
    "pd.to_numeric(time_counter_daily, downcast='float')"
   ]
  },
  {
   "cell_type": "code",
   "execution_count": 33,
   "id": "8e5497b9",
   "metadata": {},
   "outputs": [],
   "source": [
    "############################ Save in a Netcdf ###################################\n",
    "time_counter_daily = pd.date_range(dstart_year,dend_year, freq=\"D\") # time dimension\n",
    "\n",
    "# time_counter_daily_float = pd.to_numeric(time_counter_daily, downcast='float')\n",
    "#time_counter_daily.values.astype(\"float\")\n",
    "# Create xarray dataarray\n",
    "rnf_2D_daily_new_da = xr.DataArray(\n",
    "    data=rnf_2D_daily_new,\n",
    "    dims=[\"time_counter\", \"y\", \"x\"],\n",
    "    coords=dict(time_counter=time_counter_daily.values),\n",
    "    attrs=rnf_2D.attrs,\n",
    "    name=rnf_2D.name,\n",
    "     )\n",
    "\n",
    "\n",
    "\n",
    "# Create dataset\n",
    "ds = xr.merge([rnf_2D_daily_new_da, file_rnf_2D.nav_lat, file_rnf_2D.nav_lon])\n",
    "ds.attrs=file_rnf_2D.attrs\n",
    "# Save to netcdf\n",
    "outfile = output_folder + \"runoff_eNEATL36_with_BDY_y\" + str(year) + '.nc'  \n",
    "ds.to_netcdf(outfile, mode=\"w\")\n",
    "\n"
   ]
  },
  {
   "cell_type": "code",
   "execution_count": null,
   "id": "60036a66",
   "metadata": {},
   "outputs": [],
   "source": []
  },
  {
   "cell_type": "code",
   "execution_count": null,
   "id": "477af2ab",
   "metadata": {},
   "outputs": [],
   "source": []
  }
 ],
 "metadata": {
  "kernelspec": {
   "display_name": "Python 3",
   "language": "python",
   "name": "python3"
  },
  "language_info": {
   "codemirror_mode": {
    "name": "ipython",
    "version": 3
   },
   "file_extension": ".py",
   "mimetype": "text/x-python",
   "name": "python",
   "nbconvert_exporter": "python",
   "pygments_lexer": "ipython3",
   "version": "3.8.8"
  }
 },
 "nbformat": 4,
 "nbformat_minor": 5
}
