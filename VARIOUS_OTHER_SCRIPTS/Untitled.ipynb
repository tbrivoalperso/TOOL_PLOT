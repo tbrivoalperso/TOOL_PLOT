{
 "cells": [
  {
   "cell_type": "code",
   "execution_count": 1,
   "id": "818eaf2c",
   "metadata": {},
   "outputs": [],
   "source": [
    "import cartopy.crs as ccrs\n",
    "import xarray as xr\n",
    "import numpy as np\n",
    "import scipy.stats as st\n",
    "from scipy.stats import linregress\n",
    "from numpy.polynomial.polynomial import polyfit\n",
    "from scipy import signal\n",
    "from scipy.stats import norm\n",
    "\n",
    "import matplotlib\n",
    "\n",
    "import matplotlib.pyplot as plt\n",
    "import netCDF4 as nc\n",
    "from matplotlib import pyplot\n",
    "from matplotlib import colors as mcolors\n",
    "import matplotlib.gridspec as gridspec\n",
    "from scipy.stats import norm\n",
    "from mpl_toolkits.axes_grid1 import make_axes_locatable\n",
    "import gcm_filters\n",
    "\n",
    "from cartopy.mpl.ticker import LongitudeFormatter, LatitudeFormatter\n"
   ]
  },
  {
   "cell_type": "code",
   "execution_count": null,
   "id": "51c45af4",
   "metadata": {},
   "outputs": [],
   "source": [
    "\n",
    "\n"
   ]
  }
 ],
 "metadata": {
  "kernelspec": {
   "display_name": "Python 3",
   "language": "python",
   "name": "python3"
  },
  "language_info": {
   "codemirror_mode": {
    "name": "ipython",
    "version": 3
   },
   "file_extension": ".py",
   "mimetype": "text/x-python",
   "name": "python",
   "nbconvert_exporter": "python",
   "pygments_lexer": "ipython3",
   "version": "3.8.8"
  }
 },
 "nbformat": 4,
 "nbformat_minor": 5
}
