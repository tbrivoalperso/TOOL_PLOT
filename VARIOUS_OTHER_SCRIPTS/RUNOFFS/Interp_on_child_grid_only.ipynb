{
 "cells": [
  {
   "cell_type": "code",
   "execution_count": 1,
   "id": "67f5282a",
   "metadata": {},
   "outputs": [],
   "source": [
    "import numpy as np\n",
    "import xarray as xr\n",
    "import pandas as pd\n",
    "import matplotlib as mpl\n",
    "import matplotlib.pyplot as plt\n",
    "import shutil\n",
    "from shutil import copyfile\n"
   ]
  },
  {
   "cell_type": "code",
   "execution_count": 40,
   "id": "e4ac038e",
   "metadata": {},
   "outputs": [],
   "source": [
    "def find_nearest_coast_point(i,j,mask,nseuil):\n",
    "    out_i=[]\n",
    "    out_j=[]\n",
    "    n=1\n",
    "    var=0\n",
    "    while (var==0) and (n<nseuil):\n",
    "        if mask[i+n,j]==1:\n",
    "            out_i=np.append(out_i,[i+n-1])\n",
    "            out_j=np.append(out_j,[j])\n",
    "            \n",
    "        if mask[i-n,j]==1:\n",
    "            out_i=np.append(out_i,[i-n+1])\n",
    "            out_j=np.append(out_j,[j])\n",
    "\n",
    "        if mask[i,j+n]==1:\n",
    "            out_i=np.append(out_i,[i])\n",
    "            out_j=np.append(out_j,[j+n-1])\n",
    "\n",
    "        if mask[i,j-n]==1:\n",
    "            out_i=np.append(out_i,[i])  \n",
    "            out_j=np.append(out_j,[j-n+1])  \n",
    "\n",
    "        n=n+1\n",
    "        var=len(out_i)\n",
    "    if var==0:\n",
    "        return i,j \n",
    "    else:\n",
    "        return out_i, out_j # closest coastal point\n",
    "        "
   ]
  },
  {
   "cell_type": "code",
   "execution_count": 36,
   "id": "bafecfd3",
   "metadata": {},
   "outputs": [],
   "source": [
    "def place_runoffs_on_zoom(rnf_2Dt_mother_on_zoom,rnf_2Dt_zoom_inout,mask_zoom,e1e2t_zoom,rnf_point_mother,\\\n",
    "                          Nfactor,coordcheck=False,nav_lat_zoom=None,nav_lon_zoom=None,                   \\\n",
    "                          nav_lat_mother=None,nav_lon_mother=None):\n",
    "    i_mother = rnf_point_mother[0,:]\n",
    "    j_mother = rnf_point_mother[1,:]\n",
    "    print(Nfactor)\n",
    "    i_zoom = Nfactor * (i_mother) + 2 # +2 in order to be at f point and avoid rim point (+1 +1)\n",
    "    j_zoom = Nfactor * (j_mother) + 2\n",
    "    ndist= int((Nfactor -1)/2)\n",
    "    print(ndist)\n",
    "    nseuil=4\n",
    "    number=0    \n",
    "    mask_zoom_inv=np.where(mask_zoom==1,0,1) # invert mask\n",
    "\n",
    "    for n in range(len(i_mother)):\n",
    "    ############### TO TEST INDEXATION ---------------------------------------------------------------------\n",
    "        if coordcheck:   print(nav_lat_mother[int(i_mother[n]),int(j_mother[n])].values,                 \\\n",
    "              nav_lat_zoom[int(i_zoom[n]),int(j_zoom[n])].values)\n",
    "        if coordcheck:      print(nav_lon_mother[int(i_mother[n]),int(j_mother[n])].values,              \\\n",
    "              nav_lon_zoom[int(i_zoom[n]),int(j_zoom[n])].values)\n",
    "    for t in range(len(rnf_2Dt_mother_on_zoom[:,0,0])):\n",
    "        print(t)\n",
    "\n",
    "        for n in range(len(i_mother)):\n",
    "            ind_i , ind_j = find_nearest_coast_point(i_zoom[n],j_zoom[n],mask_zoom_inv,nseuil)\n",
    "#             print(ind_i, ind_j)\n",
    "#             print(ind_i.shape,ind_j.shape)\n",
    "#             print(\"...\")\n",
    "#         #------------------------------------------------------------------------------------------------------\n",
    "#             ndist= int((Nfactor -1)/2) # (Number of points in mesh along i or j direction / 2) - the central point\n",
    "#             sum_e1e2t_zoom=np.nansum(e1e2t_zoom[i_zoom[n]-ndist:i_zoom[n]+ndist+1,j_zoom[n]-ndist:j_zoom[n]+ndist+1] \\\n",
    "#             * mask_zoom[i_zoom[n]-ndist:i_zoom[n]+ndist+1,j_zoom[n]-ndist:j_zoom[n]+ndist+1])\n",
    "#             rnf_2Dt_zoom[t,i_zoom[n]-ndist:i_zoom[n]+ndist+1,j_zoom[n]-ndist:j_zoom[n]+ndist+1]=         \\\n",
    "#             (rnf_2Dt_mother_on_zoom[t,int(i_mother[n]),int(j_mother[n])]/                                \\\n",
    "#             sum_e1e2t_zoom) * e1e2t_zoom[i_zoom[n]-ndist:i_zoom[n]+ndist+1,j_zoom[n]-ndist:j_zoom[n]+ndist+1]\n",
    "\n",
    "        #----------------------------------------------------------------------------------------------------\n",
    "\n",
    "            sum_e1e2t_zoom=0\n",
    "            for n2 in range(len(ind_i)): \n",
    "                ind_i_tmp=int(ind_i[n2])\n",
    "                ind_j_tmp=int(ind_j[n2])\n",
    "                sum_e1e2t_zoom=sum_e1e2t_zoom + \\\n",
    "                np.nansum(e1e2t_zoom[ind_i_tmp-ndist:ind_i_tmp+ndist+1,ind_j_tmp-ndist:ind_j_tmp+ndist+1] \\\n",
    "                * mask_zoom[ind_i_tmp-ndist:ind_i_tmp+ndist+1,ind_j_tmp-ndist:ind_j_tmp+ndist+1])\n",
    "\n",
    "            tmp=0\n",
    "            for n2 in range(len(ind_i)):\n",
    "                ind_i_tmp=int(ind_i[n2])\n",
    "                ind_j_tmp=int(ind_j[n2])\n",
    "                rnf_2Dt_zoom[t,ind_i_tmp-ndist:ind_i_tmp+ndist+1,ind_j_tmp-ndist:ind_j_tmp+ndist+1]= \\\n",
    "                rnf_2Dt_zoom[t,ind_i_tmp-ndist:ind_i_tmp+ndist+1,ind_j_tmp-ndist:ind_j_tmp+ndist+1]  \\\n",
    "                + rnf_2Dt_mother_on_zoom[t,int(i_mother[n]),int(j_mother[n])]      \\\n",
    "                * (e1e2t_zoom[ind_i_tmp-ndist:ind_i_tmp+ndist+1,ind_j_tmp-ndist:ind_j_tmp+ndist+1]   \\\n",
    "                * mask_zoom[ind_i_tmp-ndist:ind_i_tmp+ndist+1,ind_j_tmp-ndist:ind_j_tmp+ndist+1]) \\\n",
    "                / sum_e1e2t_zoom\n",
    "#                 tmp=tmp + np.nansum(rnf_2Dt_zoom[t,ind_i_tmp-ndist:ind_i_tmp+ndist+1,ind_j_tmp-ndist:ind_j_tmp+ndist+1])\n",
    "#             print(rnf_2Dt_mother_on_zoom[t,int(i_mother[n]),int(j_mother[n])])\n",
    "#             print(tmp)\n",
    "\n",
    "    return rnf_2Dt_zoom"
   ]
  },
  {
   "cell_type": "code",
   "execution_count": 4,
   "id": "6808321e",
   "metadata": {},
   "outputs": [],
   "source": [
    "year=2017\n",
    "# rnf has to be extrapolated on new domain\n",
    "rnf_inp_file='/data/vdi/tbrivoal/PRE_PROCESSING_IMMERSE/RUNOFFS_eNEATL36/runoff_eNEATL36_emodnet_on_agrif_parent_y'+str(year)+'.nc'\n",
    "inp_domain_cfg_file='/data/vdi/tbrivoal/PRE_PROCESSING_IMMERSE/RUNOFFS_eNEATL36/DOMAIN_CFG_FINALDOMAIN/domain_cfg.nc'\n",
    "out_domain_cfg_zoom_file='/data/vdi/tbrivoal/PRE_PROCESSING_IMMERSE/RUNOFFS_eNEATL36/DOMAIN_CFG_FINALDOMAIN/1_domain_cfg.nc'\n",
    "output_folder=\"/data/rd_exchange/tbrivoal/RUNOFFS_eNEATL36/\""
   ]
  },
  {
   "cell_type": "code",
   "execution_count": 5,
   "id": "853ca725",
   "metadata": {},
   "outputs": [],
   "source": [
    "# Open files\n",
    "inp_rnf_2Dt=xr.open_dataset(rnf_inp_file)\n",
    "inp_domain_cfg=xr.open_dataset(inp_domain_cfg_file,drop_variables={\"x\", \"y\",})\n",
    "out_domain_cfg_zoom=xr.open_dataset(out_domain_cfg_zoom_file,drop_variables={\"x\", \"y\",})\n"
   ]
  },
  {
   "cell_type": "code",
   "execution_count": 6,
   "id": "b91856c8",
   "metadata": {},
   "outputs": [],
   "source": [
    "# Namelist :\n",
    "# parameters in AGRIF_Fixed_grid.in (DO NOT CONVERT IN PYTHON) 220 1073 350 1245\n",
    "xmin_zoom=220\n",
    "xmax_zoom=1073\n",
    "ymin_zoom=350\n",
    "ymax_zoom=1245\n",
    "Nfactor=3 #zoom refinement factor\n",
    "coordcheck=True\n"
   ]
  },
  {
   "cell_type": "code",
   "execution_count": 27,
   "id": "2c7abdb3",
   "metadata": {},
   "outputs": [],
   "source": [
    "# Open variables\n",
    "# mask_inp =  inp_domain_cfg.top_level.squeeze()\n",
    "mask_zoom =  out_domain_cfg_zoom.top_level.squeeze().values # avoid earth boundary point but keep rim \n",
    "e1e2t_zoom =  out_domain_cfg_zoom.e1t.squeeze().values * out_domain_cfg_zoom.e2t.squeeze().values\n",
    "e1e2t_mother =  inp_domain_cfg.e1t.squeeze().values * inp_domain_cfg.e2t.squeeze().values\n",
    "\n",
    "# mask_inp = maskf.tmask[0,0,:,:].squeeze()\n",
    "rnf_2Dt_mother=inp_rnf_2Dt.runoffs_instant[:,:,:]\n"
   ]
  },
  {
   "cell_type": "code",
   "execution_count": 28,
   "id": "f441df73",
   "metadata": {},
   "outputs": [
    {
     "name": "stdout",
     "output_type": "stream",
     "text": [
      "18873339.420869432\n"
     ]
    },
    {
     "data": {
      "text/plain": [
       "(365, 896, 854)"
      ]
     },
     "execution_count": 28,
     "metadata": {},
     "output_type": "execute_result"
    }
   ],
   "source": [
    "# Convert to python indexation\n",
    "xmin=xmin_zoom-1\n",
    "xmax=xmax_zoom-1\n",
    "ymin=ymin_zoom-1\n",
    "ymax=ymax_zoom-1 \n",
    "\n",
    "# Select zoom area in rnf file\n",
    "rnf_2Dt_mother_on_zoom=rnf_2Dt_mother[:,ymin:ymax+1,xmin:xmax+1].values  *e1e2t_mother[ymin:ymax+1,xmin:xmax+1] # trick to avoid rounding errors \n",
    "nav_lat_mother=inp_domain_cfg.gphit.squeeze()[ymin:ymax+1,xmin:xmax+1]\n",
    "nav_lon_mother=inp_domain_cfg.glamt.squeeze()[ymin:ymax+1,xmin:xmax+1]\n",
    "nav_lat_zoom=out_domain_cfg_zoom.gphit.squeeze()[:,:]\n",
    "nav_lon_zoom=out_domain_cfg_zoom.glamt.squeeze()[:,:]\n",
    "print(np.nansum(rnf_2Dt_mother_on_zoom[0,:,:]))\n",
    "rnf_2Dt_mother_on_zoom.shape\n",
    "\n",
    "\n"
   ]
  },
  {
   "cell_type": "code",
   "execution_count": 10,
   "id": "83422cf8",
   "metadata": {},
   "outputs": [
    {
     "data": {
      "text/plain": [
       "<matplotlib.colorbar.Colorbar at 0x2b7426286340>"
      ]
     },
     "execution_count": 10,
     "metadata": {},
     "output_type": "execute_result"
    },
    {
     "data": {
      "image/png": "[encoded data removed]",
      "text/plain": [
       "<Figure size 432x288 with 2 Axes>"
      ]
     },
     "metadata": {
      "needs_background": "light"
     },
     "output_type": "display_data"
    }
   ],
   "source": [
    "plt.imshow(mask_zoom)\n",
    "plt.colorbar()"
   ]
  },
  {
   "cell_type": "code",
   "execution_count": 41,
   "id": "df010d9e",
   "metadata": {},
   "outputs": [
    {
     "name": "stdout",
     "output_type": "stream",
     "text": [
      "3\n",
      "1\n",
      "0\n",
      "1\n",
      "2\n"
     ]
    }
   ],
   "source": [
    "\n",
    "rnf_2Dt_zoom=np.zeros((int(len(rnf_2Dt_mother[:,0,0])),int(len(mask_zoom[:,0])),int(len(mask_zoom[0,:]))))\n",
    "rnf_point_mother = np.array(np.where(rnf_2Dt_mother_on_zoom[0,:,:]>0)) # assuming runoffs does not move\n",
    "# rnf_2Dt_zoom[:,:,:] = place_runoffs_on_zoom(rnf_2Dt_mother_on_zoom[:,:,:],rnf_2Dt_zoom[:,:,:]\\\n",
    "#                                                       ,mask_zoom[:,:],e1e2t_zoom[:,:],      \\\n",
    "#                                                       rnf_point_mother, True,               \\\n",
    "#                                                       nav_lat_zoom,nav_lon_zoom,            \\\n",
    "#                                                       nav_lat_mother, nav_lon_mother)\n",
    "\n",
    "rnf_2Dt_zoom[:,:,:] = place_runoffs_on_zoom(rnf_2Dt_mother_on_zoom[0:3,:,:],rnf_2Dt_zoom[0:3,:,:]\\\n",
    "                                                      ,mask_zoom[:,:],e1e2t_zoom[:,:],      \\\n",
    "                                                      rnf_point_mother, Nfactor)\n",
    "rnf_2Dt_zoom = rnf_2Dt_zoom / e1e2t_zoom"
   ]
  },
  {
   "cell_type": "code",
   "execution_count": 42,
   "id": "3c8d071c",
   "metadata": {},
   "outputs": [
    {
     "name": "stdout",
     "output_type": "stream",
     "text": [
      "18873339.420869425\n"
     ]
    }
   ],
   "source": [
    "\n",
    "print(np.nansum(rnf_2Dt_zoom[0,:,:] * e1e2t_zoom))\n"
   ]
  },
  {
   "cell_type": "code",
   "execution_count": 35,
   "id": "9cfe0dea",
   "metadata": {},
   "outputs": [
    {
     "name": "stdout",
     "output_type": "stream",
     "text": [
      "18873339.420869432\n"
     ]
    }
   ],
   "source": [
    "rnf_2Dt_mother2=inp_rnf_2Dt.runoffs_instant[:,:,:]\n",
    "rnf_2Dt_mother_on_zoom2=rnf_2Dt_mother2[:,ymin:ymax+1,xmin:xmax+1].values  *e1e2t_mother[ymin:ymax+1,xmin:xmax+1] # trick to avoid rounding errors \n",
    "print(np.nansum(rnf_2Dt_mother_on_zoom2[0,:,:]))"
   ]
  },
  {
   "cell_type": "code",
   "execution_count": 60,
   "id": "bea98bef",
   "metadata": {},
   "outputs": [
    {
     "name": "stdout",
     "output_type": "stream",
     "text": [
      "18873339.420869432\n"
     ]
    }
   ],
   "source": []
  },
  {
   "cell_type": "code",
   "execution_count": 15,
   "id": "a2c7a691",
   "metadata": {},
   "outputs": [
    {
     "name": "stdout",
     "output_type": "stream",
     "text": [
      "DatetimeIndex(['2017-01-01', '2017-01-02', '2017-01-03', '2017-01-04',\n",
      "               '2017-01-05', '2017-01-06', '2017-01-07', '2017-01-08',\n",
      "               '2017-01-09', '2017-01-10',\n",
      "               ...\n",
      "               '2017-12-22', '2017-12-23', '2017-12-24', '2017-12-25',\n",
      "               '2017-12-26', '2017-12-27', '2017-12-28', '2017-12-29',\n",
      "               '2017-12-30', '2017-12-31'],\n",
      "              dtype='datetime64[ns]', length=365, freq='D')\n"
     ]
    }
   ],
   "source": [
    "year=2017 # year of runoff file\n",
    "\n",
    "# Date variables ----------------------------------------------------------------------------------------\n",
    "dstart_year= str(year) + \"-01-01\" # 1st day of the year\n",
    "dend_year= str(year) + \"-12-31\" # last day of the year\n",
    "\n",
    "dstart_clim_monthly = str(year) + \"-01-15\" # for 12 month clim\n",
    "dend_clim_monthly = str(year) + \"-12-15\" # for 12 month clim\n",
    "dstart_minus_1_month = str(year-1) + \"-12-01\" # used for conversion from monthly to daily clim data\n",
    "\n",
    "############################ Save in a Netcdf ###################################\n",
    "time_counter_daily = pd.date_range(dstart_year,dend_year, freq=\"D\") # time dimension\n",
    "print(time_counter_daily)\n",
    "# time_counter_daily_float = pd.to_numeric(time_counter_daily, downcast='float')\n",
    "#time_counter_daily.values.astype(\"float\")\n",
    "# Create xarray dataarray\n",
    "rnf_2Dt_daily_zoom_da = xr.DataArray(\n",
    "    data=rnf_2Dt_zoom,\n",
    "    dims=[\"time_counter\", \"y\", \"x\"],\n",
    "    coords=dict(time_counter=time_counter_daily.values),\n",
    "    attrs=rnf_2Dt_mother.attrs,\n",
    "    name=rnf_2Dt_mother.name,\n",
    "     )\n",
    "\n",
    "nav_lat_da = xr.DataArray(\n",
    "    data=nav_lat_zoom.values,\n",
    "    dims=[\"y\", \"x\"],\n",
    "    attrs=nav_lat_mother.attrs,\n",
    "    name=nav_lat_mother.name,\n",
    "     )\n",
    "\n",
    "nav_lon_da = xr.DataArray(\n",
    "    data=nav_lon_zoom.values,\n",
    "    dims=[\"y\", \"x\"],\n",
    "    attrs=nav_lon_mother.attrs,\n",
    "    name=nav_lon_mother.name,\n",
    "     )\n",
    "# Create dataset\n",
    "ds = xr.merge([rnf_2Dt_daily_zoom_da, nav_lat_da, nav_lon_da])\n",
    "ds.attrs=inp_rnf_2Dt.attrs\n",
    "# Save to netcdf\n",
    "outfile = output_folder + \"1_runoff_eNEATL36_with_BDY_y\" + str(year) + '_extrap_on_newdomaincfg.nc'  \n",
    "# outfile = output_folder + \"runoff_eNEATL36_with_BDY_y\" + str(year) + '.nc'  \n",
    "\n",
    "ds.to_netcdf(outfile, mode=\"w\")"
   ]
  },
  {
   "cell_type": "code",
   "execution_count": null,
   "id": "1cf9b804",
   "metadata": {},
   "outputs": [],
   "source": []
  }
 ],
 "metadata": {
  "kernelspec": {
   "display_name": "Python 3",
   "language": "python",
   "name": "python3"
  },
  "language_info": {
   "codemirror_mode": {
    "name": "ipython",
    "version": 3
   },
   "file_extension": ".py",
   "mimetype": "text/x-python",
   "name": "python",
   "nbconvert_exporter": "python",
   "pygments_lexer": "ipython3",
   "version": "3.8.8"
  }
 },
 "nbformat": 4,
 "nbformat_minor": 5
}
