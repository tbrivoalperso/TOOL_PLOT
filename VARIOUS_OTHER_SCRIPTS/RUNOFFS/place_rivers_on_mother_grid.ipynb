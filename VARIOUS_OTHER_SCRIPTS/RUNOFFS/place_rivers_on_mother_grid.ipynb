{
 "cells": [
  {
   "cell_type": "code",
   "execution_count": 1,
   "id": "4589c80f",
   "metadata": {},
   "outputs": [],
   "source": [
    "import numpy as np\n",
    "import xarray as xr\n",
    "import pandas as pd\n",
    "import matplotlib as mpl\n",
    "import matplotlib.pyplot as plt\n",
    "import shutil\n",
    "from shutil import copyfile\n"
   ]
  },
  {
   "cell_type": "code",
   "execution_count": 2,
   "id": "c1392792",
   "metadata": {},
   "outputs": [],
   "source": [
    "# Namelist\n",
    "\n",
    "year=2017 # year of runoff file\n",
    "\n",
    "# PATHS (Careful !!! Full path needed (e.g: /DATA/ROBERT/ instead of DATA/ROBERT))\n",
    "rnf_bdy_folder='/data/vdi/tbrivoal/PRE_PROCESSING_IMMERSE/RUNOFFS_eNEATL36/rnf_forcing/'\n",
    "CLIM_rnf_2D_file='/data/vdi/tbrivoal/PRE_PROCESSING_IMMERSE/RUNOFFS_eNEATL36/runoff_eNEATL36.nc'\n",
    "coords_bdy_file='/data/vdi/tbrivoal/PRE_PROCESSING_IMMERSE/RUNOFFS_eNEATL36/coordinates.bdy.nc'\n",
    "domain_cfg_file = '/data/vdi/tbrivoal/PRE_PROCESSING_IMMERSE/RUNOFFS_eNEATL36/domain_cfg_init.nc'\n",
    "\n",
    "output_folder=\"/data/vdi/tbrivoal/PRE_PROCESSING_IMMERSE/RUNOFFS_eNEATL36/\"\n",
    "outfile = output_folder + \"runoff_eNEATL36_BDY_only_y\" + str(year) + '.nc'  \n",
    "\n",
    "test_script=True # For debugging"
   ]
  },
  {
   "cell_type": "code",
   "execution_count": 3,
   "id": "5e38edde",
   "metadata": {},
   "outputs": [],
   "source": [
    "############# Read data ###############\n",
    "\n",
    "file_rnf_bdy_U=xr.open_dataset(rnf_bdy_folder + \"runoff_U_y\" + str(year) + \".nc\") # file format : runoff_U_yYYYY.nc\n",
    "file_rnf_bdy_V=xr.open_dataset(rnf_bdy_folder + \"runoff_V_y\" + str(year) + \".nc\")\n",
    "file_rnf_2D=xr.open_dataset(CLIM_rnf_2D_file)\n",
    "file_coords_bdy=xr.open_dataset(coords_bdy_file)\n",
    "domain_cfg = xr.open_dataset(domain_cfg_file ,drop_variables={\"x\", \"y\",})\n",
    "\n",
    "# Read river mouth coordinates\n",
    "# ghosts cells are taken into account so we have to do - 2 (- 1 for ghost an -1 for python)\n",
    "\n",
    "nbiu_gridT = file_rnf_bdy_U.nbidta.squeeze() #- 1 # - 1 to convert to gridT\n",
    "nbju_gridT  = file_rnf_bdy_U.nbjdta.squeeze() -1 # - 2 \n",
    "nbiv_gridT  = file_rnf_bdy_V.nbidta.squeeze() - 1 # -2 \n",
    "nbjv_gridT  = file_rnf_bdy_V.nbjdta.squeeze() # - 1 # - 1 to convert to gridT\n",
    "\n",
    "# Read BDY files of U & V runoffs\n",
    "\n",
    "U_rnf_bdy = abs(file_rnf_bdy_U.runoffu.squeeze())\n",
    "V_rnf_bdy = abs(file_rnf_bdy_V.runoffv.squeeze())\n",
    "\n",
    "# Read 2D runoff data\n",
    "rnf_2D = file_rnf_2D.orca_costal\n",
    "\n",
    "# Read coordinates\n",
    "\n",
    "mask =  domain_cfg.top_level.squeeze()\n",
    "e1t =  domain_cfg.e1t.squeeze()\n",
    "e2t =  domain_cfg.e2t.squeeze()\n"
   ]
  },
  {
   "cell_type": "code",
   "execution_count": 8,
   "id": "1341f988",
   "metadata": {},
   "outputs": [],
   "source": [
    "# parameters in AGRIF_Fixed_grid.in (DO NOT CONVERT IN PYTHON)\n",
    "xmin_zoom=220 # 312\n",
    "xmax_zoom=1073 # 752\n",
    "ymin_zoom=350 # 751\n",
    "ymax_zoom=1245 # 1176\n",
    "Nfactor=3 #zoom refinement factor\n",
    "   "
   ]
  },
  {
   "cell_type": "code",
   "execution_count": 12,
   "id": "f0b0ace5",
   "metadata": {},
   "outputs": [
    {
     "name": "stdout",
     "output_type": "stream",
     "text": [
      "805 1262\n",
      "617 976\n",
      "957 1408\n",
      "689 1100\n",
      "399 655\n",
      "739 645\n",
      "382 539\n",
      "391 689\n",
      "803 1253\n",
      "938 1384\n",
      "650 782\n",
      "342 1242\n",
      "486 454\n",
      "530 1487\n",
      "477 341\n",
      "394 607\n",
      "443 1333\n",
      "370 1352\n",
      "639 1341\n",
      "685 1217\n",
      "891 1359\n",
      "566 1451\n",
      "576 1207\n",
      "603 986\n",
      "V grid\n",
      "874 792\n",
      "673 866\n",
      "931 1756\n",
      "988 1670\n",
      "448 472\n",
      "859 1664\n",
      "425 1230\n",
      "349 1281\n",
      "512 1558\n"
     ]
    }
   ],
   "source": [
    "for i in range(len(nbiu_gridT)):\n",
    "    print(nbiu_gridT[i].values,nbju_gridT[i].values)\n",
    "print(\"V grid\")\n",
    "for i in range(len(nbiv_gridT)):\n",
    "    print(nbiv_gridT[i].values,nbjv_gridT[i].values)"
   ]
  },
  {
   "cell_type": "code",
   "execution_count": null,
   "id": "0b9ab6aa",
   "metadata": {},
   "outputs": [],
   "source": []
  }
 ],
 "metadata": {
  "kernelspec": {
   "display_name": "Python 3",
   "language": "python",
   "name": "python3"
  },
  "language_info": {
   "codemirror_mode": {
    "name": "ipython",
    "version": 3
   },
   "file_extension": ".py",
   "mimetype": "text/x-python",
   "name": "python",
   "nbconvert_exporter": "python",
   "pygments_lexer": "ipython3",
   "version": "3.8.8"
  }
 },
 "nbformat": 4,
 "nbformat_minor": 5
}
