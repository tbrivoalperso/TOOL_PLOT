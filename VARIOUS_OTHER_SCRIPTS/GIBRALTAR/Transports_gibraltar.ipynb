{
 "cells": [
  {
   "cell_type": "code",
   "execution_count": 1,
   "id": "8056cd47",
   "metadata": {},
   "outputs": [],
   "source": [
    "import cartopy.crs as ccrs\n",
    "import xarray as xr\n",
    "import numpy as np\n",
    "import scipy.stats as st\n",
    "from scipy.stats import linregress\n",
    "from numpy.polynomial.polynomial import polyfit\n",
    "from scipy import signal\n",
    "from scipy.stats import norm\n",
    "\n",
    "import matplotlib\n",
    "\n",
    "import matplotlib.pyplot as plt\n",
    "import netCDF4 as nc\n",
    "from matplotlib import pyplot\n",
    "from matplotlib import colors as mcolors\n",
    "import matplotlib.gridspec as gridspec\n",
    "from scipy.stats import norm\n",
    "from mpl_toolkits.axes_grid1 import make_axes_locatable\n",
    "\n",
    "from cartopy.mpl.ticker import LongitudeFormatter, LatitudeFormatter\n",
    "\n"
   ]
  },
  {
   "cell_type": "code",
   "execution_count": 2,
   "id": "293aa20f",
   "metadata": {},
   "outputs": [],
   "source": [
    "def deg_to_dms(deg, pretty_print=None, ndp=4):\n",
    "    \"\"\"Convert from decimal degrees to degrees, minutes, seconds.\"\"\"\n",
    "\n",
    "    m, s = divmod(abs(deg)*3600, 60)\n",
    "    d, m = divmod(m, 60)\n",
    "    if deg < 0:\n",
    "        d = -d\n",
    "    d, m = int(d), int(m)\n",
    "\n",
    "    if pretty_print:\n",
    "        if pretty_print=='latitude':\n",
    "            hemi = 'N' if d>=0 else 'S'\n",
    "        elif pretty_print=='longitude':\n",
    "            hemi = 'E' if d>=0 else 'W'\n",
    "        else:\n",
    "            hemi = '?'\n",
    "        return '{d:d}° {m:d}? {s:.{ndp:d}f}? {hemi:1s}'.format(\n",
    "                    d=abs(d), m=m, s=s, hemi=hemi, ndp=ndp)\n",
    "    return d, m, s"
   ]
  },
  {
   "cell_type": "code",
   "execution_count": 3,
   "id": "f703ff76",
   "metadata": {},
   "outputs": [],
   "source": [
    "FLDR_AGRIF='/data/vdi/tbrivoal/RUNS_DATA/EXP02_AGRIF_finaldomain_bathycorrected_qco_boost2_noslip/'\n",
    "FLDR_TWIN='/data/vdi/tbrivoal/RUNS_DATA/eNEATL36_trunk_r4_2-RC_r15113_IFS_EXP02_2017_2018_AGRIFTWIN_TRUE/'\n",
    "\n",
    "\n",
    "file_name_36='eNEATL36_1d_gridU25h.nc.gibraltar2'\n",
    "file_name_108='1_AGRIF_1d_gridU25h.nc.gibraltar2'\n",
    "coord_name_36='domain_cfg.nc'\n",
    "coord_name_108='1_domain_cfg.nc'\n",
    "\n"
   ]
  },
  {
   "cell_type": "code",
   "execution_count": 4,
   "id": "066d9fb4",
   "metadata": {},
   "outputs": [
    {
     "name": "stdout",
     "output_type": "stream",
     "text": [
      "/data/vdi/tbrivoal/RUNS_DATA/EXP02_AGRIF_finaldomain_bathycorrected_qco_boost2_noslip/eNEATL36_1d_gridU25h.nc.gibraltar2\n"
     ]
    }
   ],
   "source": [
    "print(FLDR_AGRIF + file_name_36)"
   ]
  },
  {
   "cell_type": "code",
   "execution_count": 5,
   "id": "320f10d0",
   "metadata": {},
   "outputs": [
    {
     "data": {
      "text/html": [
       "<div><svg style=\"position: absolute; width: 0; height: 0; overflow: hidden\">\n",
       "<defs>\n",
       "<symbol id=\"icon-database\" viewBox=\"0 0 32 32\">\n",
       "<path d=\"M16 0c-8.837 0-16 2.239-16 5v4c0 2.761 7.163 5 16 5s16-2.239 16-5v-4c0-2.761-7.163-5-16-5z\"></path>\n",
       "<path d=\"M16 17c-8.837 0-16-2.239-16-5v6c0 2.761 7.163 5 16 5s16-2.239 16-5v-6c0 2.761-7.163 5-16 5z\"></path>\n",
       "<path d=\"M16 26c-8.837 0-16-2.239-16-5v6c0 2.761 7.163 5 16 5s16-2.239 16-5v-6c0 2.761-7.163 5-16 5z\"></path>\n",
       "</symbol>\n",
       "<symbol id=\"icon-file-text2\" viewBox=\"0 0 32 32\">\n",
       "<path d=\"M28.681 7.159c-0.694-0.947-1.662-2.053-2.724-3.116s-2.169-2.030-3.116-2.724c-1.612-1.182-2.393-1.319-2.841-1.319h-15.5c-1.378 0-2.5 1.121-2.5 2.5v27c0 1.378 1.122 2.5 2.5 2.5h23c1.378 0 2.5-1.122 2.5-2.5v-19.5c0-0.448-0.137-1.23-1.319-2.841zM24.543 5.457c0.959 0.959 1.712 1.825 2.268 2.543h-4.811v-4.811c0.718 0.556 1.584 1.309 2.543 2.268zM28 29.5c0 0.271-0.229 0.5-0.5 0.5h-23c-0.271 0-0.5-0.229-0.5-0.5v-27c0-0.271 0.229-0.5 0.5-0.5 0 0 15.499-0 15.5 0v7c0 0.552 0.448 1 1 1h7v19.5z\"></path>\n",
       "<path d=\"M23 26h-14c-0.552 0-1-0.448-1-1s0.448-1 1-1h14c0.552 0 1 0.448 1 1s-0.448 1-1 1z\"></path>\n",
       "<path d=\"M23 22h-14c-0.552 0-1-0.448-1-1s0.448-1 1-1h14c0.552 0 1 0.448 1 1s-0.448 1-1 1z\"></path>\n",
       "<path d=\"M23 18h-14c-0.552 0-1-0.448-1-1s0.448-1 1-1h14c0.552 0 1 0.448 1 1s-0.448 1-1 1z\"></path>\n",
       "</symbol>\n",
       "</defs>\n",
       "</svg>\n",
       "<style>/* CSS stylesheet for displaying xarray objects in jupyterlab.\n",
       " *\n",
       " */\n",
       "\n",
       ":root {\n",
       "  --xr-font-color0: var(--jp-content-font-color0, rgba(0, 0, 0, 1));\n",
       "  --xr-font-color2: var(--jp-content-font-color2, rgba(0, 0, 0, 0.54));\n",
       "  --xr-font-color3: var(--jp-content-font-color3, rgba(0, 0, 0, 0.38));\n",
       "  --xr-border-color: var(--jp-border-color2, #e0e0e0);\n",
       "  --xr-disabled-color: var(--jp-layout-color3, #bdbdbd);\n",
       "  --xr-background-color: var(--jp-layout-color0, white);\n",
       "  --xr-background-color-row-even: var(--jp-layout-color1, white);\n",
       "  --xr-background-color-row-odd: var(--jp-layout-color2, #eeeeee);\n",
       "}\n",
       "\n",
       "html[theme=dark],\n",
       "body.vscode-dark {\n",
       "  --xr-font-color0: rgba(255, 255, 255, 1);\n",
       "  --xr-font-color2: rgba(255, 255, 255, 0.54);\n",
       "  --xr-font-color3: rgba(255, 255, 255, 0.38);\n",
       "  --xr-border-color: #1F1F1F;\n",
       "  --xr-disabled-color: #515151;\n",
       "  --xr-background-color: #111111;\n",
       "  --xr-background-color-row-even: #111111;\n",
       "  --xr-background-color-row-odd: #313131;\n",
       "}\n",
       "\n",
       ".xr-wrap {\n",
       "  display: block;\n",
       "  min-width: 300px;\n",
       "  max-width: 700px;\n",
       "}\n",
       "\n",
       ".xr-text-repr-fallback {\n",
       "  /* fallback to plain text repr when CSS is not injected (untrusted notebook) */\n",
       "  display: none;\n",
       "}\n",
       "\n",
       ".xr-header {\n",
       "  padding-top: 6px;\n",
       "  padding-bottom: 6px;\n",
       "  margin-bottom: 4px;\n",
       "  border-bottom: solid 1px var(--xr-border-color);\n",
       "}\n",
       "\n",
       ".xr-header > div,\n",
       ".xr-header > ul {\n",
       "  display: inline;\n",
       "  margin-top: 0;\n",
       "  margin-bottom: 0;\n",
       "}\n",
       "\n",
       ".xr-obj-type,\n",
       ".xr-array-name {\n",
       "  margin-left: 2px;\n",
       "  margin-right: 10px;\n",
       "}\n",
       "\n",
       ".xr-obj-type {\n",
       "  color: var(--xr-font-color2);\n",
       "}\n",
       "\n",
       ".xr-sections {\n",
       "  padding-left: 0 !important;\n",
       "  display: grid;\n",
       "  grid-template-columns: 150px auto auto 1fr 20px 20px;\n",
       "}\n",
       "\n",
       ".xr-section-item {\n",
       "  display: contents;\n",
       "}\n",
       "\n",
       ".xr-section-item input {\n",
       "  display: none;\n",
       "}\n",
       "\n",
       ".xr-section-item input + label {\n",
       "  color: var(--xr-disabled-color);\n",
       "}\n",
       "\n",
       ".xr-section-item input:enabled + label {\n",
       "  cursor: pointer;\n",
       "  color: var(--xr-font-color2);\n",
       "}\n",
       "\n",
       ".xr-section-item input:enabled + label:hover {\n",
       "  color: var(--xr-font-color0);\n",
       "}\n",
       "\n",
       ".xr-section-summary {\n",
       "  grid-column: 1;\n",
       "  color: var(--xr-font-color2);\n",
       "  font-weight: 500;\n",
       "}\n",
       "\n",
       ".xr-section-summary > span {\n",
       "  display: inline-block;\n",
       "  padding-left: 0.5em;\n",
       "}\n",
       "\n",
       ".xr-section-summary-in:disabled + label {\n",
       "  color: var(--xr-font-color2);\n",
       "}\n",
       "\n",
       ".xr-section-summary-in + label:before {\n",
       "  display: inline-block;\n",
       "  content: '►';\n",
       "  font-size: 11px;\n",
       "  width: 15px;\n",
       "  text-align: center;\n",
       "}\n",
       "\n",
       ".xr-section-summary-in:disabled + label:before {\n",
       "  color: var(--xr-disabled-color);\n",
       "}\n",
       "\n",
       ".xr-section-summary-in:checked + label:before {\n",
       "  content: '▼';\n",
       "}\n",
       "\n",
       ".xr-section-summary-in:checked + label > span {\n",
       "  display: none;\n",
       "}\n",
       "\n",
       ".xr-section-summary,\n",
       ".xr-section-inline-details {\n",
       "  padding-top: 4px;\n",
       "  padding-bottom: 4px;\n",
       "}\n",
       "\n",
       ".xr-section-inline-details {\n",
       "  grid-column: 2 / -1;\n",
       "}\n",
       "\n",
       ".xr-section-details {\n",
       "  display: none;\n",
       "  grid-column: 1 / -1;\n",
       "  margin-bottom: 5px;\n",
       "}\n",
       "\n",
       ".xr-section-summary-in:checked ~ .xr-section-details {\n",
       "  display: contents;\n",
       "}\n",
       "\n",
       ".xr-array-wrap {\n",
       "  grid-column: 1 / -1;\n",
       "  display: grid;\n",
       "  grid-template-columns: 20px auto;\n",
       "}\n",
       "\n",
       ".xr-array-wrap > label {\n",
       "  grid-column: 1;\n",
       "  vertical-align: top;\n",
       "}\n",
       "\n",
       ".xr-preview {\n",
       "  color: var(--xr-font-color3);\n",
       "}\n",
       "\n",
       ".xr-array-preview,\n",
       ".xr-array-data {\n",
       "  padding: 0 5px !important;\n",
       "  grid-column: 2;\n",
       "}\n",
       "\n",
       ".xr-array-data,\n",
       ".xr-array-in:checked ~ .xr-array-preview {\n",
       "  display: none;\n",
       "}\n",
       "\n",
       ".xr-array-in:checked ~ .xr-array-data,\n",
       ".xr-array-preview {\n",
       "  display: inline-block;\n",
       "}\n",
       "\n",
       ".xr-dim-list {\n",
       "  display: inline-block !important;\n",
       "  list-style: none;\n",
       "  padding: 0 !important;\n",
       "  margin: 0;\n",
       "}\n",
       "\n",
       ".xr-dim-list li {\n",
       "  display: inline-block;\n",
       "  padding: 0;\n",
       "  margin: 0;\n",
       "}\n",
       "\n",
       ".xr-dim-list:before {\n",
       "  content: '(';\n",
       "}\n",
       "\n",
       ".xr-dim-list:after {\n",
       "  content: ')';\n",
       "}\n",
       "\n",
       ".xr-dim-list li:not(:last-child):after {\n",
       "  content: ',';\n",
       "  padding-right: 5px;\n",
       "}\n",
       "\n",
       ".xr-has-index {\n",
       "  font-weight: bold;\n",
       "}\n",
       "\n",
       ".xr-var-list,\n",
       ".xr-var-item {\n",
       "  display: contents;\n",
       "}\n",
       "\n",
       ".xr-var-item > div,\n",
       ".xr-var-item label,\n",
       ".xr-var-item > .xr-var-name span {\n",
       "  background-color: var(--xr-background-color-row-even);\n",
       "  margin-bottom: 0;\n",
       "}\n",
       "\n",
       ".xr-var-item > .xr-var-name:hover span {\n",
       "  padding-right: 5px;\n",
       "}\n",
       "\n",
       ".xr-var-list > li:nth-child(odd) > div,\n",
       ".xr-var-list > li:nth-child(odd) > label,\n",
       ".xr-var-list > li:nth-child(odd) > .xr-var-name span {\n",
       "  background-color: var(--xr-background-color-row-odd);\n",
       "}\n",
       "\n",
       ".xr-var-name {\n",
       "  grid-column: 1;\n",
       "}\n",
       "\n",
       ".xr-var-dims {\n",
       "  grid-column: 2;\n",
       "}\n",
       "\n",
       ".xr-var-dtype {\n",
       "  grid-column: 3;\n",
       "  text-align: right;\n",
       "  color: var(--xr-font-color2);\n",
       "}\n",
       "\n",
       ".xr-var-preview {\n",
       "  grid-column: 4;\n",
       "}\n",
       "\n",
       ".xr-var-name,\n",
       ".xr-var-dims,\n",
       ".xr-var-dtype,\n",
       ".xr-preview,\n",
       ".xr-attrs dt {\n",
       "  white-space: nowrap;\n",
       "  overflow: hidden;\n",
       "  text-overflow: ellipsis;\n",
       "  padding-right: 10px;\n",
       "}\n",
       "\n",
       ".xr-var-name:hover,\n",
       ".xr-var-dims:hover,\n",
       ".xr-var-dtype:hover,\n",
       ".xr-attrs dt:hover {\n",
       "  overflow: visible;\n",
       "  width: auto;\n",
       "  z-index: 1;\n",
       "}\n",
       "\n",
       ".xr-var-attrs,\n",
       ".xr-var-data {\n",
       "  display: none;\n",
       "  background-color: var(--xr-background-color) !important;\n",
       "  padding-bottom: 5px !important;\n",
       "}\n",
       "\n",
       ".xr-var-attrs-in:checked ~ .xr-var-attrs,\n",
       ".xr-var-data-in:checked ~ .xr-var-data {\n",
       "  display: block;\n",
       "}\n",
       "\n",
       ".xr-var-data > table {\n",
       "  float: right;\n",
       "}\n",
       "\n",
       ".xr-var-name span,\n",
       ".xr-var-data,\n",
       ".xr-attrs {\n",
       "  padding-left: 25px !important;\n",
       "}\n",
       "\n",
       ".xr-attrs,\n",
       ".xr-var-attrs,\n",
       ".xr-var-data {\n",
       "  grid-column: 1 / -1;\n",
       "}\n",
       "\n",
       "dl.xr-attrs {\n",
       "  padding: 0;\n",
       "  margin: 0;\n",
       "  display: grid;\n",
       "  grid-template-columns: 125px auto;\n",
       "}\n",
       "\n",
       ".xr-attrs dt,\n",
       ".xr-attrs dd {\n",
       "  padding: 0;\n",
       "  margin: 0;\n",
       "  float: left;\n",
       "  padding-right: 10px;\n",
       "  width: auto;\n",
       "}\n",
       "\n",
       ".xr-attrs dt {\n",
       "  font-weight: normal;\n",
       "  grid-column: 1;\n",
       "}\n",
       "\n",
       ".xr-attrs dt:hover span {\n",
       "  display: inline-block;\n",
       "  background: var(--xr-background-color);\n",
       "  padding-right: 10px;\n",
       "}\n",
       "\n",
       ".xr-attrs dd {\n",
       "  grid-column: 2;\n",
       "  white-space: pre-wrap;\n",
       "  word-break: break-all;\n",
       "}\n",
       "\n",
       ".xr-icon-database,\n",
       ".xr-icon-file-text2 {\n",
       "  display: inline-block;\n",
       "  vertical-align: middle;\n",
       "  width: 1em;\n",
       "  height: 1.5em !important;\n",
       "  stroke-width: 0;\n",
       "  stroke: currentColor;\n",
       "  fill: currentColor;\n",
       "}\n",
       "</style><pre class='xr-text-repr-fallback'>&lt;xarray.DataArray &#x27;glamt&#x27; (time_counter: 1, y: 100)&gt;\n",
       "array([[-5.3658  , -5.365478, -5.365155, -5.36483 , -5.364504, -5.364177,\n",
       "        -5.363847, -5.363517, -5.363185, -5.362851, -5.362516, -5.362179,\n",
       "        -5.361841, -5.361502, -5.36116 , -5.360818, -5.360474, -5.360128,\n",
       "        -5.359781, -5.359432, -5.359081, -5.35873 , -5.358376, -5.358021,\n",
       "        -5.357665, -5.357307, -5.356947, -5.356586, -5.356223, -5.355858,\n",
       "        -5.355492, -5.355125, -5.354756, -5.354385, -5.354013, -5.353639,\n",
       "        -5.353263, -5.352886, -5.352507, -5.352127, -5.351745, -5.351361,\n",
       "        -5.350976, -5.350589, -5.350201, -5.349811, -5.349419, -5.349025,\n",
       "        -5.34863 , -5.348234, -5.347835, -5.347435, -5.347033, -5.34663 ,\n",
       "        -5.346225, -5.345818, -5.34541 , -5.344999, -5.344588, -5.344174,\n",
       "        -5.343759, -5.343342, -5.342923, -5.342503, -5.342081, -5.341657,\n",
       "        -5.341231, -5.340804, -5.340375, -5.339944, -5.339512, -5.339077,\n",
       "        -5.338641, -5.338204, -5.337764, -5.337323, -5.33688 , -5.336435,\n",
       "        -5.335988, -5.33554 , -5.33509 , -5.334638, -5.334184, -5.333729,\n",
       "        -5.333271, -5.332812, -5.332351, -5.331889, -5.331424, -5.330958,\n",
       "        -5.330489, -5.330019, -5.329548, -5.329074, -5.328598, -5.328121,\n",
       "        -5.327642, -5.327161, -5.326678, -5.326193]])\n",
       "Coordinates:\n",
       "  * time_counter  (time_counter) float32 0.0\n",
       "Dimensions without coordinates: y</pre><div class='xr-wrap' hidden><div class='xr-header'><div class='xr-obj-type'>xarray.DataArray</div><div class='xr-array-name'>'glamt'</div><ul class='xr-dim-list'><li><span class='xr-has-index'>time_counter</span>: 1</li><li><span>y</span>: 100</li></ul></div><ul class='xr-sections'><li class='xr-section-item'><div class='xr-array-wrap'><input id='section-5a79657d-4ebf-4542-ae72-314617605c24' class='xr-array-in' type='checkbox' checked><label for='section-5a79657d-4ebf-4542-ae72-314617605c24' title='Show/hide data repr'><svg class='icon xr-icon-database'><use xlink:href='#icon-database'></use></svg></label><div class='xr-array-preview xr-preview'><span>-5.366 -5.365 -5.365 -5.365 -5.365 ... -5.328 -5.327 -5.327 -5.326</span></div><div class='xr-array-data'><pre>array([[-5.3658  , -5.365478, -5.365155, -5.36483 , -5.364504, -5.364177,\n",
       "        -5.363847, -5.363517, -5.363185, -5.362851, -5.362516, -5.362179,\n",
       "        -5.361841, -5.361502, -5.36116 , -5.360818, -5.360474, -5.360128,\n",
       "        -5.359781, -5.359432, -5.359081, -5.35873 , -5.358376, -5.358021,\n",
       "        -5.357665, -5.357307, -5.356947, -5.356586, -5.356223, -5.355858,\n",
       "        -5.355492, -5.355125, -5.354756, -5.354385, -5.354013, -5.353639,\n",
       "        -5.353263, -5.352886, -5.352507, -5.352127, -5.351745, -5.351361,\n",
       "        -5.350976, -5.350589, -5.350201, -5.349811, -5.349419, -5.349025,\n",
       "        -5.34863 , -5.348234, -5.347835, -5.347435, -5.347033, -5.34663 ,\n",
       "        -5.346225, -5.345818, -5.34541 , -5.344999, -5.344588, -5.344174,\n",
       "        -5.343759, -5.343342, -5.342923, -5.342503, -5.342081, -5.341657,\n",
       "        -5.341231, -5.340804, -5.340375, -5.339944, -5.339512, -5.339077,\n",
       "        -5.338641, -5.338204, -5.337764, -5.337323, -5.33688 , -5.336435,\n",
       "        -5.335988, -5.33554 , -5.33509 , -5.334638, -5.334184, -5.333729,\n",
       "        -5.333271, -5.332812, -5.332351, -5.331889, -5.331424, -5.330958,\n",
       "        -5.330489, -5.330019, -5.329548, -5.329074, -5.328598, -5.328121,\n",
       "        -5.327642, -5.327161, -5.326678, -5.326193]])</pre></div></div></li><li class='xr-section-item'><input id='section-18dff792-dede-4363-87f3-f3c63a6373dd' class='xr-section-summary-in' type='checkbox'  checked><label for='section-18dff792-dede-4363-87f3-f3c63a6373dd' class='xr-section-summary' >Coordinates: <span>(1)</span></label><div class='xr-section-inline-details'></div><div class='xr-section-details'><ul class='xr-var-list'><li class='xr-var-item'><div class='xr-var-name'><span class='xr-has-index'>time_counter</span></div><div class='xr-var-dims'>(time_counter)</div><div class='xr-var-dtype'>float32</div><div class='xr-var-preview xr-preview'>0.0</div><input id='attrs-8e7b4ea6-ebd2-4637-94f6-d6b8984aff68' class='xr-var-attrs-in' type='checkbox' disabled><label for='attrs-8e7b4ea6-ebd2-4637-94f6-d6b8984aff68' title='Show/Hide attributes'><svg class='icon xr-icon-file-text2'><use xlink:href='#icon-file-text2'></use></svg></label><input id='data-99e9701a-c2db-485a-bbd3-03558b31ebdc' class='xr-var-data-in' type='checkbox'><label for='data-99e9701a-c2db-485a-bbd3-03558b31ebdc' title='Show/Hide data repr'><svg class='icon xr-icon-database'><use xlink:href='#icon-database'></use></svg></label><div class='xr-var-attrs'><dl class='xr-attrs'></dl></div><div class='xr-var-data'><pre>array([0.], dtype=float32)</pre></div></li></ul></div></li><li class='xr-section-item'><input id='section-f30691b9-4d7b-4fad-82c2-a6c1e2d3a30c' class='xr-section-summary-in' type='checkbox' disabled ><label for='section-f30691b9-4d7b-4fad-82c2-a6c1e2d3a30c' class='xr-section-summary'  title='Expand/collapse section'>Attributes: <span>(0)</span></label><div class='xr-section-inline-details'></div><div class='xr-section-details'><dl class='xr-attrs'></dl></div></li></ul></div></div>"
      ],
      "text/plain": [
       "<xarray.DataArray 'glamt' (time_counter: 1, y: 100)>\n",
       "array([[-5.3658  , -5.365478, -5.365155, -5.36483 , -5.364504, -5.364177,\n",
       "        -5.363847, -5.363517, -5.363185, -5.362851, -5.362516, -5.362179,\n",
       "        -5.361841, -5.361502, -5.36116 , -5.360818, -5.360474, -5.360128,\n",
       "        -5.359781, -5.359432, -5.359081, -5.35873 , -5.358376, -5.358021,\n",
       "        -5.357665, -5.357307, -5.356947, -5.356586, -5.356223, -5.355858,\n",
       "        -5.355492, -5.355125, -5.354756, -5.354385, -5.354013, -5.353639,\n",
       "        -5.353263, -5.352886, -5.352507, -5.352127, -5.351745, -5.351361,\n",
       "        -5.350976, -5.350589, -5.350201, -5.349811, -5.349419, -5.349025,\n",
       "        -5.34863 , -5.348234, -5.347835, -5.347435, -5.347033, -5.34663 ,\n",
       "        -5.346225, -5.345818, -5.34541 , -5.344999, -5.344588, -5.344174,\n",
       "        -5.343759, -5.343342, -5.342923, -5.342503, -5.342081, -5.341657,\n",
       "        -5.341231, -5.340804, -5.340375, -5.339944, -5.339512, -5.339077,\n",
       "        -5.338641, -5.338204, -5.337764, -5.337323, -5.33688 , -5.336435,\n",
       "        -5.335988, -5.33554 , -5.33509 , -5.334638, -5.334184, -5.333729,\n",
       "        -5.333271, -5.332812, -5.332351, -5.331889, -5.331424, -5.330958,\n",
       "        -5.330489, -5.330019, -5.329548, -5.329074, -5.328598, -5.328121,\n",
       "        -5.327642, -5.327161, -5.326678, -5.326193]])\n",
       "Coordinates:\n",
       "  * time_counter  (time_counter) float32 0.0\n",
       "Dimensions without coordinates: y"
      ]
     },
     "execution_count": 5,
     "metadata": {},
     "output_type": "execute_result"
    }
   ],
   "source": [
    "y_min,y_max = 375 , 475\n",
    "x_coupe = 522\n",
    "imin_IBI_AGRIF=220\n",
    "imax_IBI_AGRIF=1073\n",
    "jmin_IBI_AGRIF=350\n",
    "jmax_IBI_AGRIF=1245\n",
    "\n",
    "y_min_agrif=(y_min - jmin_IBI_AGRIF)*3 + 5\n",
    "y_max_agrif=(y_max - jmin_IBI_AGRIF)*3 + 5\n",
    "x_coupe_agrif=(x_coupe - imin_IBI_AGRIF)*3 + 5\n",
    "DSTART = '2017-02-01'\n",
    "DEND = '2018-02-01'\n",
    "\n",
    "ds_AGRIF_36 = xr.open_dataset(FLDR_AGRIF + file_name_36).sel(time_counter=slice(DSTART, DEND))\n",
    "ds_AGRIF_108 = xr.open_dataset(FLDR_AGRIF + file_name_108).sel(time_counter=slice(DSTART, DEND))\n",
    "ds_TWIN_36 = xr.open_dataset(FLDR_TWIN + file_name_36).sel(time_counter=slice(DSTART, DEND))\n",
    "coord_AGRIF_36 = xr.open_dataset(FLDR_AGRIF + coord_name_36, drop_variables={\"x\", \"y\",}).isel(y=np.arange(y_min,y_max)).isel(x=x_coupe)\n",
    "coord_AGRIF_108 = xr.open_dataset(FLDR_AGRIF + coord_name_108, drop_variables={\"x\", \"y\",}).isel(y=np.arange(y_min_agrif,y_max_agrif)).isel(x=x_coupe_agrif)\n",
    "coord_TWIN_36 = xr.open_dataset(FLDR_TWIN + coord_name_36, drop_variables={\"x\", \"y\",}).isel(y=np.arange(y_min,y_max)).isel(x=x_coupe)\n",
    "\n",
    "coord_TWIN_36.glamt"
   ]
  },
  {
   "cell_type": "code",
   "execution_count": 6,
   "id": "f333e973",
   "metadata": {},
   "outputs": [
    {
     "name": "stdout",
     "output_type": "stream",
     "text": [
      "<xarray.DataArray 'glamt' (time_counter: 1, y: 300)>\n",
      "array([[-5.3658  , -5.365693, -5.365586, ..., -5.326193, -5.326031, -5.325868]])\n",
      "Coordinates:\n",
      "  * time_counter  (time_counter) float32 0.0\n",
      "Dimensions without coordinates: y\n",
      "<xarray.DataArray 'glamt' (time_counter: 1, y: 100)>\n",
      "array([[-5.3658  , -5.365478, -5.365155, -5.36483 , -5.364504, -5.364177,\n",
      "        -5.363847, -5.363517, -5.363185, -5.362851, -5.362516, -5.362179,\n",
      "        -5.361841, -5.361502, -5.36116 , -5.360818, -5.360474, -5.360128,\n",
      "        -5.359781, -5.359432, -5.359081, -5.35873 , -5.358376, -5.358021,\n",
      "        -5.357665, -5.357307, -5.356947, -5.356586, -5.356223, -5.355858,\n",
      "        -5.355492, -5.355125, -5.354756, -5.354385, -5.354013, -5.353639,\n",
      "        -5.353263, -5.352886, -5.352507, -5.352127, -5.351745, -5.351361,\n",
      "        -5.350976, -5.350589, -5.350201, -5.349811, -5.349419, -5.349025,\n",
      "        -5.34863 , -5.348234, -5.347835, -5.347435, -5.347033, -5.34663 ,\n",
      "        -5.346225, -5.345818, -5.34541 , -5.344999, -5.344588, -5.344174,\n",
      "        -5.343759, -5.343342, -5.342923, -5.342503, -5.342081, -5.341657,\n",
      "        -5.341231, -5.340804, -5.340375, -5.339944, -5.339512, -5.339077,\n",
      "        -5.338641, -5.338204, -5.337764, -5.337323, -5.33688 , -5.336435,\n",
      "        -5.335988, -5.33554 , -5.33509 , -5.334638, -5.334184, -5.333729,\n",
      "        -5.333271, -5.332812, -5.332351, -5.331889, -5.331424, -5.330958,\n",
      "        -5.330489, -5.330019, -5.329548, -5.329074, -5.328598, -5.328121,\n",
      "        -5.327642, -5.327161, -5.326678, -5.326193]])\n",
      "Coordinates:\n",
      "  * time_counter  (time_counter) float32 0.0\n",
      "Dimensions without coordinates: y\n"
     ]
    }
   ],
   "source": [
    "print(coord_AGRIF_108.glamt)\n",
    "print(coord_AGRIF_36.glamt)"
   ]
  },
  {
   "cell_type": "code",
   "execution_count": 7,
   "id": "eca647d9",
   "metadata": {},
   "outputs": [],
   "source": [
    "e2t_AGRIF_36=coord_AGRIF_36.e2u.squeeze()\n",
    "e3t_AGRIF_36=coord_AGRIF_36.e3u_0.squeeze()\n",
    "e2t_AGRIF_108=coord_AGRIF_108.e2u.squeeze()\n",
    "e3t_AGRIF_108=coord_AGRIF_108.e3u_0.squeeze()\n",
    "e2t_TWIN_36=coord_TWIN_36.e2t.squeeze()\n",
    "e3t_TWIN_36=coord_TWIN_36.e3u_0.squeeze()\n",
    "\n",
    "e2te3t_AGRIF_36= e3t_AGRIF_36 * e2t_AGRIF_36 \n",
    "e2te3t_AGRIF_108=e3t_AGRIF_108 * e2t_AGRIF_108\n",
    "e2te3t_TWIN_36=e3t_TWIN_36 * e2t_TWIN_36 \n",
    "\n",
    "lat_AGRIF_36 = coord_AGRIF_36.gphit.squeeze()\n",
    "lat_AGRIF_108 = coord_AGRIF_108.gphit.squeeze()\n",
    "lat_TWIN_36 = coord_TWIN_36.gphit.squeeze()\n",
    "\n",
    "depthu_AGRIF_36 = ds_AGRIF_36.depthu.squeeze()\n",
    "depthu_AGRIF_108 = ds_AGRIF_108.depthu.squeeze()\n",
    "depthu_TWIN_36 = ds_TWIN_36.depthu.squeeze()\n"
   ]
  },
  {
   "cell_type": "code",
   "execution_count": 8,
   "id": "d7adaa1b",
   "metadata": {},
   "outputs": [
    {
     "data": {
      "image/png": "[encoded data removed]",
      "text/plain": [
       "<Figure size 432x288 with 2 Axes>"
      ]
     },
     "metadata": {
      "needs_background": "light"
     },
     "output_type": "display_data"
    }
   ],
   "source": [
    "X,Y = np.meshgrid(lat_AGRIF_108,depthu_AGRIF_108)\n",
    "ax=plt.subplot(111)\n",
    "plt.contourf(X,Y,ds_AGRIF_108.vozocrtx.squeeze().mean(dim='time_counter'),cmap='seismic',levels=np.linspace(-1,1,31),extend='both')\n",
    "ax.set_xlim(35.875,36.05)\n",
    "ax.set_ylim(0,1000)\n",
    "plt.gca().invert_yaxis()\n",
    "plt.colorbar(label='U current (m/s)')\n",
    "plt.savefig('section_gibraltar_AGRIF.png')"
   ]
  },
  {
   "cell_type": "code",
   "execution_count": 9,
   "id": "f25780f1",
   "metadata": {},
   "outputs": [
    {
     "data": {
      "image/png": "[encoded data removed]",
      "text/plain": [
       "<Figure size 432x288 with 2 Axes>"
      ]
     },
     "metadata": {
      "needs_background": "light"
     },
     "output_type": "display_data"
    }
   ],
   "source": [
    "X,Y = np.meshgrid(lat_TWIN_36,depthu_TWIN_36)\n",
    "ax=plt.subplot(111)\n",
    "plt.contourf(X,Y,ds_TWIN_36.vozocrtx.squeeze().mean(dim='time_counter'),cmap='seismic',levels=np.linspace(-1,1,31),extend='both')\n",
    "ax.set_xlim(35.875,36.05)\n",
    "ax.set_ylim(0,1000)\n",
    "plt.gca().invert_yaxis()\n",
    "plt.colorbar(label='U current (m/s)')\n",
    "plt.savefig('section_gibraltar_TWIN.png')"
   ]
  },
  {
   "cell_type": "code",
   "execution_count": null,
   "id": "eb8e04a8",
   "metadata": {},
   "outputs": [],
   "source": []
  },
  {
   "cell_type": "code",
   "execution_count": 10,
   "id": "8e9240a3",
   "metadata": {},
   "outputs": [],
   "source": [
    "e2te3t_AGRIF_36 = np.zeros(ds_AGRIF_36.vozocrtx.squeeze().shape)\n",
    "e2te3t_AGRIF_108 = np.zeros(ds_AGRIF_108.vozocrtx.squeeze().shape)\n",
    "e2te3t_TWIN_36 = np.zeros(ds_TWIN_36.vozocrtx.squeeze().shape)\n"
   ]
  },
  {
   "cell_type": "code",
   "execution_count": 11,
   "id": "7d277bfd",
   "metadata": {},
   "outputs": [],
   "source": [
    "e2te3t_AGRIF_36[:,:,:] = (e3t_AGRIF_36/1000) * (e2t_AGRIF_36/1000)\n",
    "e2te3t_AGRIF_108[:,:,:] =(e3t_AGRIF_108/1000) * (e2t_AGRIF_108 /1000)\n",
    "e2te3t_TWIN_36[:,:,:] = (e3t_TWIN_36/1000) * (e2t_TWIN_36 /1000)\n",
    "\n",
    "e2te3t_AGRIF_36 = np.where(np.isnan(ds_AGRIF_36.vozocrtx.squeeze().values),np.nan,e2te3t_AGRIF_36)\n",
    "e2te3t_AGRIF_108 = np.where(np.isnan(ds_AGRIF_108.vozocrtx.squeeze().values),np.nan,e2te3t_AGRIF_108)\n",
    "e2te3t_TWIN_36 = np.where(np.isnan(ds_TWIN_36.vozocrtx.squeeze().values),np.nan,e2te3t_TWIN_36)\n"
   ]
  },
  {
   "cell_type": "code",
   "execution_count": 12,
   "id": "642e9593",
   "metadata": {},
   "outputs": [
    {
     "name": "stdout",
     "output_type": "stream",
     "text": [
      "13.11089326963209\n",
      "12.980078892269592\n",
      "12.466067256081462\n"
     ]
    }
   ],
   "source": [
    "print(np.nansum(e2te3t_AGRIF_36[0,:,:]))\n",
    "print(np.nansum(e2te3t_AGRIF_108[0,:,:]))\n",
    "print(np.nansum(e2te3t_TWIN_36[0,:,:]))\n"
   ]
  },
  {
   "cell_type": "code",
   "execution_count": 13,
   "id": "d73aa8db",
   "metadata": {},
   "outputs": [],
   "source": [
    "e2te3t_AGRIF_36[:,:,:] = (e3t_AGRIF_36) * (e2t_AGRIF_36)\n",
    "e2te3t_AGRIF_108[:,:,:] =(e3t_AGRIF_108) * (e2t_AGRIF_108 )\n",
    "e2te3t_TWIN_36[:,:,:] = (e3t_TWIN_36) * (e2t_TWIN_36 )\n",
    "\n",
    "e2te3t_AGRIF_36 = np.where(np.isnan(ds_AGRIF_36.vozocrtx.squeeze().values),np.nan,e2te3t_AGRIF_36)\n",
    "e2te3t_AGRIF_108 = np.where(np.isnan(ds_AGRIF_108.vozocrtx.squeeze().values),np.nan,e2te3t_AGRIF_108)\n",
    "e2te3t_TWIN_36 = np.where(np.isnan(ds_TWIN_36.vozocrtx.squeeze().values),np.nan,e2te3t_TWIN_36)\n"
   ]
  },
  {
   "cell_type": "code",
   "execution_count": 14,
   "id": "e26320e3",
   "metadata": {},
   "outputs": [],
   "source": [
    "Trsp_AGRIF_36 = ds_AGRIF_36.vozocrtx * e2te3t_AGRIF_36\n",
    "Trsp_AGRIF_108 = ds_AGRIF_108.vozocrtx * e2te3t_AGRIF_108\n",
    "Trsp_TWIN_36 = ds_TWIN_36.vozocrtx * e2te3t_TWIN_36\n",
    "\n",
    "Trsp_AGRIF_36_i = Trsp_AGRIF_36.where(Trsp_AGRIF_36.values > 0,np.nan )\n",
    "Trsp_AGRIF_108_i = Trsp_AGRIF_108.where(Trsp_AGRIF_108.values > 0,np.nan )\n",
    "Trsp_TWIN_36_i = Trsp_TWIN_36.where(Trsp_TWIN_36.values > 0,np.nan )\n",
    "\n",
    "Trsp_AGRIF_36_o = Trsp_AGRIF_36.where(Trsp_AGRIF_36.values < 0,np.nan )\n",
    "Trsp_AGRIF_108_o = Trsp_AGRIF_108.where(Trsp_AGRIF_108.values < 0,np.nan )\n",
    "Trsp_TWIN_36_o = Trsp_TWIN_36.where(Trsp_TWIN_36.values < 0,np.nan )\n",
    "\n",
    "time = ds_AGRIF_36.time_counter"
   ]
  },
  {
   "cell_type": "code",
   "execution_count": 15,
   "id": "979022ee",
   "metadata": {},
   "outputs": [
    {
     "name": "stdout",
     "output_type": "stream",
     "text": [
      "Netflow\n",
      "0.24576598876777006\n",
      "0.2006027281791747\n",
      "Inflow\n",
      "1.2267254463935626\n",
      "1.2240457917519585\n",
      "Outflow\n",
      "-0.980959457625793\n",
      "-1.0234430635727838\n"
     ]
    }
   ],
   "source": [
    "print('Netflow')\n",
    "# print(np.nansum(np.nanmean(Trsp_AGRIF_36,axis=0))/10e6)\n",
    "print(np.nanmean(Trsp_AGRIF_108.sum(dim='depthu').sum(dim='y')) / 1000000)\n",
    "print(np.nanmean(Trsp_TWIN_36.sum(dim='depthu').sum(dim='y'))/ 1000000)\n",
    "\n",
    "print('Inflow')\n",
    "# print(np.nansum(np.nanmean(Trsp_AGRIF_36_i,axis=0))/10e6)\n",
    "print(np.nanmean(Trsp_AGRIF_108_i.sum(dim='depthu').sum(dim='y')) / 1000000)\n",
    "print(np.nanmean(Trsp_TWIN_36_i.sum(dim='depthu').sum(dim='y')) / 1000000)\n",
    "\n",
    "print('Outflow')\n",
    "# print(np.nansum(np.nanmean(Trsp_AGRIF_36_o,axis=0))/10e6)\n",
    "print(np.nanmean(Trsp_AGRIF_108_o.sum(dim='depthu').sum(dim='y')) / 1000000)\n",
    "print(np.nanmean(Trsp_TWIN_36_o.sum(dim='depthu').sum(dim='y')) / 1000000)"
   ]
  },
  {
   "cell_type": "code",
   "execution_count": 16,
   "id": "2f131be9",
   "metadata": {},
   "outputs": [
    {
     "data": {
      "text/plain": [
       "1000000.0"
      ]
     },
     "execution_count": 16,
     "metadata": {},
     "output_type": "execute_result"
    }
   ],
   "source": [
    "1e6"
   ]
  },
  {
   "cell_type": "code",
   "execution_count": 17,
   "id": "3d95cfc6",
   "metadata": {},
   "outputs": [
    {
     "data": {
      "text/plain": [
       "[<matplotlib.lines.Line2D at 0x2b75962d1220>]"
      ]
     },
     "execution_count": 17,
     "metadata": {},
     "output_type": "execute_result"
    },
    {
     "data": {
      "image/png": "[encoded data removed]",
      "text/plain": [
       "<Figure size 432x288 with 1 Axes>"
      ]
     },
     "metadata": {
      "needs_background": "light"
     },
     "output_type": "display_data"
    }
   ],
   "source": [
    "plt.plot(time,Trsp_AGRIF_108.sum(dim='depthu').sum(dim='y') / 1000000,color='b',)\n",
    "# plt.plot(time,Trsp_AGRIF_36.sum(dim='depthu').mean(dim='y'),color='b')\n",
    "plt.plot(time,Trsp_TWIN_36.sum(dim='depthu').sum(dim='y') / 1000000,color='r')\n"
   ]
  },
  {
   "cell_type": "code",
   "execution_count": 18,
   "id": "42257c53",
   "metadata": {},
   "outputs": [
    {
     "data": {
      "text/plain": [
       "[<matplotlib.lines.Line2D at 0x2b759632a6a0>]"
      ]
     },
     "execution_count": 18,
     "metadata": {},
     "output_type": "execute_result"
    },
    {
     "data": {
      "image/png": "[encoded data removed]",
      "text/plain": [
       "<Figure size 432x288 with 1 Axes>"
      ]
     },
     "metadata": {
      "needs_background": "light"
     },
     "output_type": "display_data"
    }
   ],
   "source": [
    "plt.plot(time,Trsp_AGRIF_108_i.sum(dim='depthu').sum(dim='y') / 1000000,color='b',)\n",
    "# plt.plot(time,Trsp_AGRIF_36.sum(dim='depthu').mean(dim='y'),color='b')\n",
    "plt.plot(time,Trsp_TWIN_36_i.sum(dim='depthu').sum(dim='y') / 1000000,color='r')"
   ]
  },
  {
   "cell_type": "code",
   "execution_count": 19,
   "id": "bfaa7770",
   "metadata": {},
   "outputs": [
    {
     "data": {
      "text/plain": [
       "[<matplotlib.lines.Line2D at 0x2b7596380220>]"
      ]
     },
     "execution_count": 19,
     "metadata": {},
     "output_type": "execute_result"
    },
    {
     "data": {
      "image/png": "[encoded data removed]",
      "text/plain": [
       "<Figure size 432x288 with 1 Axes>"
      ]
     },
     "metadata": {
      "needs_background": "light"
     },
     "output_type": "display_data"
    }
   ],
   "source": [
    "plt.plot(time,Trsp_AGRIF_108_o.sum(dim='depthu').mean(dim='y'),color='b',)\n",
    "# plt.plot(time,Trsp_AGRIF_36_i.sum(dim='depthu').mean(dim='y'),color='b')\n",
    "plt.plot(time,Trsp_TWIN_36_o.sum(dim='depthu').mean(dim='y'),color='r')"
   ]
  }
 ],
 "metadata": {
  "kernelspec": {
   "display_name": "Python 3",
   "language": "python",
   "name": "python3"
  },
  "language_info": {
   "codemirror_mode": {
    "name": "ipython",
    "version": 3
   },
   "file_extension": ".py",
   "mimetype": "text/x-python",
   "name": "python",
   "nbconvert_exporter": "python",
   "pygments_lexer": "ipython3",
   "version": "3.8.8"
  }
 },
 "nbformat": 4,
 "nbformat_minor": 5
}
