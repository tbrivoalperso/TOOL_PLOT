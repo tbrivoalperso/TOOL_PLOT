{
 "cells": [
  {
   "cell_type": "markdown",
   "id": "5e0f6719",
   "metadata": {},
   "source": [
    "# HOW TO CREATE A NESTED CONFIGURATION (eNEATL36 + BIZoo case)\n"
   ]
  },
  {
   "cell_type": "markdown",
   "id": "12916f87",
   "metadata": {},
   "source": [
    "This notebook is a guide to create a nested configuration with one nest. This is complementary to the IMMERSE deliverable 6.1 (available here : https://github.com/immerse-project/eNEATL36-BIzoo_Demonstator/blob/main/DOC/PDFs/RAPPORT_IMMERSE_D6p1.pdf), which contains many additional informations. In particular, we recommend to read the part 'II.C : Setup of the nested configuration' of the deliverable.\n",
    "\n",
    "\n",
    "See also the AGRIF user guide for NEMO4.X versions:\n",
    "https://forge.ipsl.jussieu.fr/nemo/chrome/site/doc/NEMO/guide/html/zooms.html \n",
    "\n"
   ]
  },
  {
   "cell_type": "markdown",
   "id": "84fb4bab",
   "metadata": {},
   "source": [
    "### 1 - retrieve emodnet bathymetry"
   ]
  },
  {
   "cell_type": "markdown",
   "id": "93b13f45",
   "metadata": {},
   "source": [
    "- *1: Download emodnet tiles (emodnet 2018 was used for BIZoo, but this should be similar with newer emodnet versions) => https://emodnet.ec.europa.eu/en*\n",
    "\n",
    "\n",
    "- *2: A tool to merge emodnet tiles is available on the IMMERSE github: https://github.com/immerse-project/eNEATL36-BIzoo_Demonstator/tree/main/SCRIPTS/TOOLS/BATHY/MERGE_EMODNET\n",
    "\n",
    "\n",
    "Step 1 : interpolate tiles on the full emodnet grid with 1_interp_tiles_on_full_emodnet.sh\n",
    "\n",
    "Step 2 : merge tiles with 2_merge_tiles_2018.py\n",
    "\n",
    "\n",
    "- *At this point, you should have a netcdf file with the emodnet bathymetry bathy_emodnet_on_EMODNET_2018.nc*"
   ]
  },
  {
   "cell_type": "markdown",
   "id": "bd2d78d8",
   "metadata": {},
   "source": [
    "### 2 - Parent domain_cfg.nc file"
   ]
  },
  {
   "cell_type": "markdown",
   "id": "f3f6b878",
   "metadata": {},
   "source": [
    "NEMO4.X versions now need a file domain_cfg.nc that contains the coordinates of the configuration. The first step is to create it for the parent configuration only (e.g: eNEATL36)\n",
    "- *use the DOMAINCFG tool in  NEMODIR/tools/DOMAINcfg, compiled without key_agrif*\n",
    "\n"
   ]
  },
  {
   "cell_type": "markdown",
   "id": "d37d7605",
   "metadata": {},
   "source": [
    "### 3 - Create AGRIF_FixedGrids.in file"
   ]
  },
  {
   "cell_type": "markdown",
   "id": "c3fd8b52",
   "metadata": {},
   "source": [
    "\n",
    "The AGRIF_FixedGrids.in file contains the information about the position of the nest in the parent grid. The file should contain at least three lines (for 1 zoom, and more if there is several nests) such as (for the BIZoo nest) :\n",
    "\n",
    "\n",
    "`1\n",
    "220 1073 350 1245 3 3 3\n",
    "0\n",
    "`\n",
    "\n",
    "The first line indicates the number of zooms (1). The second line contains the starting and ending indices in both directions on the root grid (imin=220 imax=1073 jmin=350 jmax=1245) followed by the space and time refinement factors (3 3 3). The last line is the number of child grid nested in the refined region (0). A more complex example with telescoping grids can be found below and in the AGRIF_DEMO reference configuration directory.\n",
    "\n",
    "\n"
   ]
  },
  {
   "cell_type": "markdown",
   "id": "784e43fc",
   "metadata": {},
   "source": [
    "### 4 - First creation of the domain_cfg.nc files for both parent and child grids"
   ]
  },
  {
   "cell_type": "markdown",
   "id": "f85032ec",
   "metadata": {},
   "source": [
    "- *First, Compile the DOMAINCFG tool with the cpp key 'key_agrif'* added in cpp_DOMAINcfg.fcm file\n",
    "- *Then, run the DOMAINCFG tool*\n",
    "\n",
    "To run the tool with agrif, you should have one namelist per grid: in our case, one namelist 'namelist_cfg' for the parent grid, and another one 1_namelist_cfg for the child grid\n",
    "\n",
    " - *To do this, a tool is available \"SHOW WHERE\" : make_namelist.py, the tool creates both namelists.*\n",
    " \n",
    " - *Then, you need to update some parameters of the namelist. One of the most important is nn_bathy=2 if you want the bathymetry to be generated from an external bathymetry dataset such as emodnet, nn_bathy=1 if you already have the bathymetry file on the nest grid and nn_bathy=3 otherwise. In our case, with emodnet:*\n",
    " \n",
    " \n",
    "`   ln_read_cfg = .false.   !  Read from a domain_cfg file\n",
    "    nn_bathy    =    2      ! = 0 compute analyticaly\n",
    "                           ! = 1 read the bathymetry file\n",
    "                           ! = 2 compute from external bathymetry (should be on a regular grid)\n",
    "                           ! = 3 compute from parent (if \"key_agrif\")\n",
    "   cn_topo = 'emodNET_2018.nc' ! Name of the bathymetry file \n",
    "   cn_bath = 'bathymetry' ! Name of the bathymetry variable in cn_topo\n",
    "   cn_lon = 'lon' ! Name of longitude in cn_topo\n",
    "   cn_lat = 'lat' ! Name of latitude in cn_topo\n",
    "`\n",
    " \n",
    "- finally, run the domain cfg tool (a script is available here :https://github.com/immerse-project/eNEATL36-BIzoo_Demonstator/blob/main/SCRIPTS/DOMAINcfg/run_domain_cfg_eNEATL36_AGRIF_emodNET2018_finaldomain_corrected_with_FES2014.sub)"
   ]
  },
  {
   "cell_type": "markdown",
   "id": "b70ce3e7",
   "metadata": {},
   "source": [
    "### 5 - Update the bathymetry with the BMG TOOL"
   ]
  },
  {
   "cell_type": "markdown",
   "id": "a856aee6",
   "metadata": {},
   "source": [
    "External dataset bathymetry is interpolated on the nest grid with a classic bilinear interpolation. Thus, mismatches with the coastlines can occur. In order to refine the coaslines, you can download the BMG tool from IFREMER (https://mars3d.ifremer.fr/Les-outils/BathyMeshGridTOOLS) which is very useful to refine the bathymetry. \n",
    "\n",
    "- *Download bmg tool, or load bmg module on mercator px:*\n",
    "\n",
    "`module load bmg/bmg-5.0 `\n",
    "\n",
    "- *The tool is not maintained anymore but remains useful. It requires the data to be formatted a certain way to work. The script SCRIPT HERE is meant to create the coordinate file and the bathymetry file which are needed by BMG from the DOMAINCFG* \n",
    "\n",
    "`./make_domaincfg_compatible_BMG.sh DOMAIN_CFG_FILE_NAME OUT_COORD_FILE_NAME OUT_BATHY_FILE_NAME`\n",
    "\n",
    "- *Download a .line coastline file, you can find the GSHHG coastline file here : =======PATH_COASTLINES=======\n",
    "\n",
    "- *Then run CheckBMG*\n",
    "\n",
    "`CheckBMG`\n",
    "\n",
    "- *Go to 'files', then 'open files'. Select 'NEMO' as 'grid file format'. Then select the file OUT_COORD_FILE_NAME for the NEMO coordinates files, and OUT_BATHY_FILE_NAME for the bathymetry, and the .line file as coastline file.*\n",
    "\n",
    "\n",
    "\n",
    "- *Then, have fun updating the bathymetry!*\n",
    "\n",
    "\n",
    "\n",
    "\n",
    "\n",
    "\n",
    "Nb: depending on the bathymetry source, one might want to also add the tidal amplitude to the bathymetry (see IMMERSE Deliverable 6.1)\n"
   ]
  },
  {
   "cell_type": "markdown",
   "id": "2cbf6920",
   "metadata": {},
   "source": [
    "### 6 - Run domain_cfg a second time with the new updated bathymetry"
   ]
  },
  {
   "cell_type": "markdown",
   "id": "12ea23da",
   "metadata": {},
   "source": [
    "- *Run the domaincfg tool once again while reading the new bathymetry file created at last step, with the following parameters:*\n",
    "\n",
    " \n",
    "`   ln_read_cfg = .false.   !  Read from a domain_cfg file\n",
    "    nn_bathy    =    2      ! = 0 compute analyticaly\n",
    "                           ! = 1 read the bathymetry file\n",
    "                           ! = 2 compute from external bathymetry (should be on a regular grid)\n",
    "                           ! = 3 compute from parent (if \"key_agrif\")\n",
    "   cn_topo = 'OUT_BATHY_FILE_NAME' ! Name of the bathymetry file \n",
    "   cn_bath = 'Bathymetry'\n",
    "   cn_lon = 'glamt'\n",
    "   cn_lat = 'gphit'\n",
    "`\n",
    " \n",
    " \n",
    " \n",
    "At this step, you will have both parent and child coordinate files domain_cfg.nc and 1_domain_cfg.nc respectively. "
   ]
  },
  {
   "cell_type": "code",
   "execution_count": null,
   "id": "ba0de4a9",
   "metadata": {},
   "outputs": [],
   "source": []
  }
 ],
 "metadata": {
  "kernelspec": {
   "display_name": "Python 3",
   "language": "python",
   "name": "python3"
  },
  "language_info": {
   "codemirror_mode": {
    "name": "ipython",
    "version": 3
   },
   "file_extension": ".py",
   "mimetype": "text/x-python",
   "name": "python",
   "nbconvert_exporter": "python",
   "pygments_lexer": "ipython3",
   "version": "3.8.8"
  }
 },
 "nbformat": 4,
 "nbformat_minor": 5
}
