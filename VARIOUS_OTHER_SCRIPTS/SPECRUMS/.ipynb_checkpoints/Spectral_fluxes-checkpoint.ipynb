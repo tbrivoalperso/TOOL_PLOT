{
 "cells": [
  {
   "cell_type": "code",
   "execution_count": 14,
   "id": "b8d7f59b",
   "metadata": {},
   "outputs": [],
   "source": [
    "import matplotlib as mpl\n",
    "import cartopy.crs as ccrs\n",
    "import os, sys\n",
    "import xarray as xr\n",
    "import numpy as np\n",
    "import scipy.stats as st\n",
    "import xrft\n",
    "import matplotlib.pyplot as plt\n",
    "import matplotlib.colors as clr\n",
    "import netCDF4 as nc\n",
    "import matplotlib.ticker as mticker\n",
    "from matplotlib import colors\n",
    "import k_omega_functions as kw\n",
    "import numpy_groupies\n",
    "from scipy import signal\n"
   ]
  },
  {
   "cell_type": "code",
   "execution_count": 27,
   "id": "88006616",
   "metadata": {},
   "outputs": [],
   "source": [
    "def temporal_spectrum(KE_in, dt):\n",
    "# Function to compute k_omega spectrum\n",
    "# KE_in : KE (time_counter, y, x) (loaded with xarray)\n",
    "# ds_coord : dataset which contains the coordinates(at least e1t & e2t)\n",
    "    no=0\n",
    "    dt_inv = 1 / dt\n",
    "    KE_flat = KE_in.stack(xy=(\"x\", \"y\"))\n",
    "    KE_flat = KE_flat.where(~np.isnan(KE_flat.values), 0.)\n",
    "    \n",
    "    ff_KE=np.zeros(KE_flat.shape)\n",
    "    ff_KEki0=np.zeros(KE_flat.shape)\n",
    "\n",
    "    for i in range(len(KE_flat[0,:])):\n",
    "#         print(str(i) +' / '+ str(len(KE_flat[0,:])))\n",
    "        ff_KE[:,i], ff_KEki0[:,i] = signal.welch(KE_flat[:,i], fs=dt_inv,nperseg=int(len(KE_flat[:,0])),\\\n",
    "                                                        window='hanning', noverlap=no,nfft=2*int(len(KE_flat[:,0])-1),\\\n",
    "                                                        detrend='linear', return_onesided=True, scaling='spectrum')\n",
    "    mean_f0_KE = np.nanmean(ff_KE,axis=1)\n",
    "    mean_fi0_KE = np.nanmean(ff_KEki0,axis=1)\n",
    "    \n",
    "    \n",
    "    return mean_f0_KE, mean_fi0_KE\n",
    "\n",
    "    "
   ]
  },
  {
   "cell_type": "code",
   "execution_count": 6,
   "id": "e2e69175",
   "metadata": {},
   "outputs": [],
   "source": [
    "# Define area names\n",
    "areanames=['ATL_46N']\n",
    "colors=['r']\n",
    "listlat_center=np.array([46])\n",
    "listlon_center=np.array([-7])\n",
    "dx = [2193]\n",
    "dy = [2169]"
   ]
  },
  {
   "cell_type": "code",
   "execution_count": 7,
   "id": "feb25578",
   "metadata": {},
   "outputs": [],
   "source": [
    "fldr_1 = '/data/vdi/tbrivoal/RUNS_DATA/EXP02_AGRIF_finaldomain_bathycorrected_qco_boost2_noslip/'\n",
    "fldr_2 = '/data/vdi/tbrivoal/RUNS_DATA/eNEATL36_trunk_r4_2-RC_r15113_IFS_EXP02_2017_2018_AGRIFTWIN_BFR/'\n",
    "fldr_plots ='/home/tbrivoal/Documents/PLOTS/SPECTRUMS/'"
   ]
  },
  {
   "cell_type": "code",
   "execution_count": null,
   "id": "01464d1e",
   "metadata": {},
   "outputs": [
    {
     "name": "stdout",
     "output_type": "stream",
     "text": [
      "KE files exists, skipping KE computation part\n",
      "loading file :  /data/vdi/tbrivoal/RUNS_DATA/EXP02_AGRIF_finaldomain_bathycorrected_qco_boost2_noslip/eNEATL36_1h_gridKE_ATL_46N.nc\n",
      "loading file :  /data/vdi/tbrivoal/RUNS_DATA/eNEATL36_trunk_r4_2-RC_r15113_IFS_EXP02_2017_2018_AGRIFTWIN_BFR/eNEATL36_1h_gridKE_ATL_46N.nc\n"
     ]
    }
   ],
   "source": [
    "for narea in range(len(listlat_center)):\n",
    "    # Selecting SSH area\n",
    "    # This part is to extract the dx and dy \n",
    "\n",
    "    file_U_1 = fldr_1+'eNEATL36_1h_gridU_'+str(areanames[narea])+'.nc'\n",
    "    file_V_1 = fldr_1+'eNEATL36_1h_gridV_'+str(areanames[narea])+'.nc'\n",
    "    file_KE_1 = fldr_1+'eNEATL36_1h_gridKE_'+str(areanames[narea])+'.nc'\n",
    "\n",
    "    file_U_2 = fldr_2+'eNEATL36_1h_gridU_'+str(areanames[narea])+'.nc'\n",
    "    file_V_2 = fldr_2+'eNEATL36_1h_gridV_'+str(areanames[narea])+'.nc'\n",
    "    file_KE_2 = fldr_2+'eNEATL36_1h_gridKE_'+str(areanames[narea])+'.nc'\n",
    "    \n",
    "    # The better is to pre-compute KE, as it takes a long time to compute\n",
    "    isfile1 = os.path.isfile(file_KE_1)\n",
    "    isfile2 = os.path.isfile(file_KE_2)\n",
    "\n",
    "    if isfile1 and isfile2:\n",
    "        print('KE files exists, skipping KE computation part')\n",
    "        print('loading file : ', file_KE_1)\n",
    "        print('loading file : ', file_KE_2)\n",
    "\n",
    "        ds_KE_1 = xr.open_dataset(file_KE_1)\n",
    "        ds_KE_2 = xr.open_dataset(file_KE_2)\n",
    "\n",
    "        KE_1 = ds_KE_1.KE\n",
    "        KE_2 = ds_KE_2.KE\n",
    "    else:\n",
    "    \n",
    "        ds_U_1 = xr.open_dataset(file_U_1)\n",
    "        ds_V_1 = xr.open_dataset(file_V_1)\n",
    "        ds_U_2 = xr.open_dataset(file_U_2)\n",
    "        ds_V_2 = xr.open_dataset(file_V_2)\n",
    "        U_1 = ds_U_1.sozocrtx.squeeze()\n",
    "        V_1 = ds_V_1.somecrty.squeeze()\n",
    "        U_2 = ds_U_2.sozocrtx.squeeze()\n",
    "        V_2 = ds_V_2.somecrty.squeeze()\n",
    "        KE_1 = 0.5 * (U_1.rename('KE')**2 + V_1.rename('KE')**2)\n",
    "        KE_2 = 0.5 * (U_2.rename('KE')**2 + V_2.rename('KE')**2)\n",
    "        KE_1.to_netcdf(file_KE_1)\n",
    "        KE_2.to_netcdf(file_KE_2)\n",
    "        \n",
    "    dt = 3600. \n",
    "    mean_f0_KE_1, mean_fi0_KE_1 = temporal_spectrum(KE_1, dt)\n",
    "    mean_f0_KE_2, mean_fi0_KE_2 = temporal_spectrum(KE_2, dt)\n",
    "    \n",
    "    ax00 = plt.subplot(111)\n",
    "    fig.set_tight_layout(True)\n",
    "    ax00.loglog(1/mean_f0_KE_1, mean_fi0_KE_1, 'b', lw=2, label ='NEST - 1/36°')\n",
    "    ax00.loglog(1/mean_f0_KE_2, mean_fi0_KE_2, 'b', lw=2, label ='TWIN - 1/36°')\n",
    "\n",
    "    plt.savefig(fldr_plots + 'temporal_spectrum'+str(areanames[narea])+'.png')\n",
    "    print('FIG SAVED HERE: ' + fldr_plots + 'temporal_spectrum'+str(areanames[narea])+'.png')"
   ]
  },
  {
   "cell_type": "code",
   "execution_count": null,
   "id": "9a538964",
   "metadata": {},
   "outputs": [],
   "source": []
  }
 ],
 "metadata": {
  "kernelspec": {
   "display_name": "Python 3",
   "language": "python",
   "name": "python3"
  },
  "language_info": {
   "codemirror_mode": {
    "name": "ipython",
    "version": 3
   },
   "file_extension": ".py",
   "mimetype": "text/x-python",
   "name": "python",
   "nbconvert_exporter": "python",
   "pygments_lexer": "ipython3",
   "version": "3.8.8"
  }
 },
 "nbformat": 4,
 "nbformat_minor": 5
}
