{
 "cells": [
  {
   "cell_type": "markdown",
   "id": "0a6cb49d",
   "metadata": {},
   "source": [
    "# HOW TO CREATE A NESTED CONFIGURATION\n"
   ]
  },
  {
   "cell_type": "markdown",
   "id": "e6c924ce",
   "metadata": {},
   "source": [
    "See also the AGRIF user guide for NEMO4.X versions:\n",
    "https://forge.ipsl.jussieu.fr/nemo/chrome/site/doc/NEMO/guide/html/zooms.html "
   ]
  },
  {
   "cell_type": "markdown",
   "id": "22e7bd11",
   "metadata": {},
   "source": [
    "### 1 - domain_cfg.nc file"
   ]
  },
  {
   "cell_type": "markdown",
   "id": "06ae2ae2",
   "metadata": {},
   "source": [
    "The first step of the creation of an agrif configuration is to create the domain_cfg.nc files for both parent and child grids. Those files contain the coordinates of the configuration. To do this:\n",
    "-\t1: Create a domain_cfg.nc file for the parent domain (e.g: eNEATL36), with the DOMAINCFG tool in  NEMODIR/tools/DOMAINcfg, compiled without key_agrif\n",
    "-\t2: Create the AGRIF_FixedGrids.in file, which contains the information about the position of the nest in the parent grid. The file should contain at least three lines (for 1 zoom, and more if there is several nests) such as (for the BIZoo nest) :\n",
    "\n",
    "\n",
    "`1\n",
    "220 1073 350 1245 3 3 3\n",
    "0\n",
    "`\n",
    "\n",
    "The first line indicates the number of zooms (1). The second line contains the starting and ending indices in both directions on the root grid (imin=220 imax=1073 jmin=350 jmax=1245) followed by the space and time refinement factors (3 3 3). The last line is the number of child grid nested in the refined region (0). A more complex example with telescoping grids can be found below and in the AGRIF_DEMO reference configuration directory.\n",
    "\n",
    "\n",
    "-\t3: Compile the DOMAINCFG tool (with key_agrif added in the cpp_DOMAINcfg.fcm"
   ]
  }
 ],
 "metadata": {
  "kernelspec": {
   "display_name": "Python 3",
   "language": "python",
   "name": "python3"
  },
  "language_info": {
   "codemirror_mode": {
    "name": "ipython",
    "version": 3
   },
   "file_extension": ".py",
   "mimetype": "text/x-python",
   "name": "python",
   "nbconvert_exporter": "python",
   "pygments_lexer": "ipython3",
   "version": "3.8.8"
  }
 },
 "nbformat": 4,
 "nbformat_minor": 5
}
